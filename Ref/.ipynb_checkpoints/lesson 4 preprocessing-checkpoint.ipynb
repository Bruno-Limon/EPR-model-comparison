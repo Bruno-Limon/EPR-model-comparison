{
 "cells": [
  {
   "cell_type": "markdown",
   "metadata": {
    "id": "m_WRVo_eB1mi"
   },
   "source": [
    "Author: Luca Pappalardo\n",
    "</br>Geospatial Analytics, Master degree in Data Science and Business Informatics, University of Pisa"
   ]
  },
  {
   "cell_type": "markdown",
   "metadata": {},
   "source": [
    "# Geospatial Analytics - Lesson 4: Preprocessing Data\n",
    "\n",
    "In this lesson, we will learn how to handle and explore spatial data in Python using folium and scikit-mobility.\n",
    "\n",
    "1. [Noise Filtering](#filtering)\n",
    "2. [Trajectory compression](#compression)\n",
    "3. [Stop Detection](#stopdetection)\n",
    "4. [Stops Clustering](#clustering)\n",
    "5. [Practice](#practice)\n",
    "6. [From trajectories to flows](#flowtotraj)"
   ]
  },
  {
   "cell_type": "markdown",
   "metadata": {
    "id": "htgL-U5DyyvG"
   },
   "source": [
    "Mobility data analysis requires data cleaning and preprocessing steps. \n",
    "\n",
    "The `preprocessing` module allows the user to perform noise filtering, trajectory compression, and stop detection. \n",
    "\n",
    "Note that if a `TrajDataFrame` contains multiple trajectories from multiple objects, the preprocessing methods automatically apply to the single trajectory and, when necessary, to the single object. "
   ]
  },
  {
   "cell_type": "code",
   "execution_count": null,
   "metadata": {},
   "outputs": [],
   "source": [
    "import warnings\n",
    "warnings.filterwarnings('ignore')"
   ]
  },
  {
   "cell_type": "code",
   "execution_count": null,
   "metadata": {
    "id": "zbWyIQ6WDKoN"
   },
   "outputs": [],
   "source": [
    "# import the libraries\n",
    "import skmob\n",
    "import pandas as pd\n",
    "import geopandas as gpd\n",
    "import folium"
   ]
  },
  {
   "cell_type": "markdown",
   "metadata": {
    "id": "ZzhoKcDUc2bv"
   },
   "source": [
    "## Load the GeoLife dataset\n",
    "- you find a portion of the Geolife dataset at this link: https://github.com/scikit-mobility/tutorials/raw/master/mda_masterbd2020/data/geolife_sample.txt.gz"
   ]
  },
  {
   "cell_type": "code",
   "execution_count": null,
   "metadata": {
    "id": "kOmhcTJ7AlSe"
   },
   "outputs": [],
   "source": [
    "# create a TrajDataFrame from a dataset of trajectories \n",
    "url = \"https://github.com/scikit-mobility/tutorials/raw/master/mda_masterbd2020/data/geolife_sample.txt.gz\"\n",
    "tdf = skmob.TrajDataFrame.from_file(url)\n",
    "print(type(tdf))\n",
    "tdf.head()"
   ]
  },
  {
   "cell_type": "markdown",
   "metadata": {
    "id": "-jQhIQdBc8DD"
   },
   "source": [
    "Let's create a `TrajDataFrame` for a single user"
   ]
  },
  {
   "cell_type": "code",
   "execution_count": null,
   "metadata": {
    "id": "uCaj1ErMCOsT"
   },
   "outputs": [],
   "source": [
    "tdf['uid'].unique()"
   ]
  },
  {
   "cell_type": "code",
   "execution_count": null,
   "metadata": {
    "id": "E2XeGxZYcDxc"
   },
   "outputs": [],
   "source": [
    "user1_tdf = tdf[tdf.uid == 1]\n",
    "print('points of this user: %s' %len(user1_tdf))\n",
    "user1_tdf.head()"
   ]
  },
  {
   "cell_type": "code",
   "execution_count": null,
   "metadata": {},
   "outputs": [],
   "source": [
    "user1_tdf.plot_trajectory()"
   ]
  },
  {
   "cell_type": "markdown",
   "metadata": {
    "id": "KoxgghrpzPs9"
   },
   "source": [
    "<a id='filtering'></a>\n",
    "## Noise filtering\n",
    "\n",
    "Trajectory data are in general **noisy**, usually because of recording errors like poor signal reception. When the error associated with the coordinates of points is large, the best solution is to **filter out** these points. \n",
    "\n",
    "In scikit-mobility, the method `filter` filters out a point if the speed from the previous point is higher than the parameter `max_speed_kmh`, which is by default set to 500km/h. \n",
    "\n",
    "The intensity of the filter is controlled by the `max_speed_kmh` parameter. The lower the value, the more intense the filter is.\n",
    "\n",
    "`filter` has other parameters, check them here: https://scikit-mobility.github.io/scikit-mobility/reference/preprocessing.html#skmob.preprocessing.filtering.filter \n",
    "\n",
    "To use the `filter` function, we you must import it from the `preprocessing` module."
   ]
  },
  {
   "cell_type": "code",
   "execution_count": null,
   "metadata": {
    "id": "_Kc4zTuRpZpk"
   },
   "outputs": [],
   "source": [
    "from skmob.preprocessing import filtering"
   ]
  },
  {
   "cell_type": "code",
   "execution_count": null,
   "metadata": {
    "id": "vnZ-cZePEMTp"
   },
   "outputs": [],
   "source": [
    "f_tdf = filtering.filter(tdf, max_speed_kmh=500.)\n",
    "print(\"Number of points in the filtered tdf: %d\" %len(f_tdf))\n",
    "print(\"Number of filtered points: %d\\n\" %(len(tdf) - len(f_tdf)))\n",
    "f_tdf.head()"
   ]
  },
  {
   "cell_type": "markdown",
   "metadata": {
    "id": "oaFlQlWnECUT"
   },
   "source": [
    "Every time you use a `preprocessing` function, an item is added to the `parameters` attribute describing the parameter values when invoking the function"
   ]
  },
  {
   "cell_type": "code",
   "execution_count": null,
   "metadata": {
    "id": "HpVQcBasrfnA"
   },
   "outputs": [],
   "source": [
    "f_tdf.parameters"
   ]
  },
  {
   "cell_type": "markdown",
   "metadata": {
    "id": "ngKLR_lpER4T"
   },
   "source": [
    "Let's compare visually the original trajectory and the filtered trajectory of the selected user"
   ]
  },
  {
   "cell_type": "code",
   "execution_count": null,
   "metadata": {
    "id": "NB8zWbtGdPbH"
   },
   "outputs": [],
   "source": [
    "user1_f_tdf = f_tdf[f_tdf['uid'] == 1]\n",
    "print(user1_f_tdf.parameters)\n",
    "print('Filtered points:\\t%s'%(len(user1_tdf) - len(user1_f_tdf)))"
   ]
  },
  {
   "cell_type": "code",
   "execution_count": null,
   "metadata": {
    "id": "QNgFBVZgcZiM"
   },
   "outputs": [],
   "source": [
    "map_f = user1_tdf.plot_trajectory(zoom=11, weight=10, opacity=0.5, hex_color='black') \n",
    "user1_f_tdf.plot_trajectory(map_f=map_f, hex_color='red')"
   ]
  },
  {
   "cell_type": "markdown",
   "metadata": {
    "id": "8HmY5bmBeRij"
   },
   "source": [
    "### Which points have been filtered?"
   ]
  },
  {
   "cell_type": "code",
   "execution_count": null,
   "metadata": {
    "id": "1PRombaTeYw4"
   },
   "outputs": [],
   "source": [
    "# indicator adds column _merge\n",
    "merged = user1_tdf.merge(user1_f_tdf, indicator=True, how='outer')\n",
    "diff_df = merged[merged['_merge'] == 'left_only']\n",
    "print(len(diff_df))\n",
    "diff_df"
   ]
  },
  {
   "cell_type": "markdown",
   "metadata": {
    "id": "yN8lrAI8es9T"
   },
   "source": [
    "Let's extract the filtered points between indexes `25372` and `23377`.\n",
    "\n"
   ]
  },
  {
   "cell_type": "code",
   "execution_count": null,
   "metadata": {
    "id": "yClw5YtOeq5I"
   },
   "outputs": [],
   "source": [
    "min_index, max_index = 25373, 25376\n",
    "dt_start = user1_tdf.loc[min_index - 1]['datetime']\n",
    "dt_end = user1_tdf.loc[max_index + 1]['datetime']\n",
    "filtered_tdf = user1_f_tdf[(user1_f_tdf['datetime'] >= dt_start) \\\n",
    "                 & (user1_f_tdf['datetime'] <= dt_end)]\n",
    "\n",
    "unfiltered_tdf = user1_tdf[(user1_tdf['datetime'] >= dt_start) \\\n",
    "                  & (user1_tdf['datetime'] <= dt_end)]\n",
    "filtered_tdf"
   ]
  },
  {
   "cell_type": "markdown",
   "metadata": {
    "id": "1jmjwTBKgC3C"
   },
   "source": [
    "Compute the speeds between consecutive points on the unfiltered trajectory"
   ]
  },
  {
   "cell_type": "code",
   "execution_count": null,
   "metadata": {
    "id": "uurTXBP4gEIt"
   },
   "outputs": [],
   "source": [
    "lat_lng_dt = unfiltered_tdf[['lat', 'lng', 'datetime']].values"
   ]
  },
  {
   "cell_type": "code",
   "execution_count": null,
   "metadata": {
    "id": "E12_wB4jgGSa"
   },
   "outputs": [],
   "source": [
    "# avg speed (km/h) between last not filtered point and following points\n",
    "from  skmob.utils.gislib import getDistance\n",
    "lat0, lng0, dt0 = lat_lng_dt[0]\n",
    "pd.DataFrame(\n",
    "    [[dt0, dt , getDistance((lat, lng), (lat0, lng0)) / ((dt - dt0).seconds / 3600),\n",
    "     getDistance((lat, lng), (lat0, lng0)) / ((dt - dt0).seconds / 3600) > 500.0] \\\n",
    "     for i, (lat ,lng, dt) in enumerate(lat_lng_dt[1:])], \\\n",
    "             columns=['time 0', 'time 1', 'speed (km/h)', 'to_filter'])"
   ]
  },
  {
   "cell_type": "markdown",
   "metadata": {
    "id": "kKptheP8E1t3"
   },
   "source": [
    "### Playing with the `max_speed_kmh` parameter"
   ]
  },
  {
   "cell_type": "code",
   "execution_count": null,
   "metadata": {
    "id": "XaNQ9eBzE62s"
   },
   "outputs": [],
   "source": [
    "f2_tdf = filtering.filter(tdf, max_speed_kmh=100.)\n",
    "print(\"Number of points in the filtered tdf: %d\" %len(f2_tdf))\n",
    "print(\"Number of filtered points: %d\\n\" %(len(tdf) - len(f2_tdf)))\n",
    "f2_tdf.head()"
   ]
  },
  {
   "cell_type": "code",
   "execution_count": null,
   "metadata": {
    "id": "NbRAKZpEFick"
   },
   "outputs": [],
   "source": [
    "user1_f2_tdf = f2_tdf[f2_tdf['uid'] == 1]\n",
    "print(user1_f2_tdf.parameters)\n",
    "print('Filtered points:\\t%s'%(len(user1_tdf) - len(user1_f2_tdf)))"
   ]
  },
  {
   "cell_type": "code",
   "execution_count": null,
   "metadata": {
    "id": "wJFjKH0pFqKF"
   },
   "outputs": [],
   "source": [
    "map_f = user1_tdf.plot_trajectory(zoom=12, weight=10, opacity=0.5, hex_color='black') \n",
    "user1_f2_tdf.plot_trajectory(map_f=map_f, hex_color='blue')"
   ]
  },
  {
   "cell_type": "code",
   "execution_count": null,
   "metadata": {},
   "outputs": [],
   "source": [
    "map_f = folium.plugins.DualMap(location=(user1_tdf['lat'].mean(), \n",
    "                                         user1_tdf['lng'].mean()), \n",
    "                                       tiles='cartodbpositron', zoom_start=12)\n",
    "m1, m2 = map_f.m1, map_f.m2\n",
    "\n",
    "# filtering 1\n",
    "user1_tdf.plot_trajectory(map_f=m1, zoom=12, weight=10, opacity=0.5, hex_color='black') \n",
    "user1_f_tdf.plot_trajectory(map_f=m1, start_end_markers=False, hex_color='blue')\n",
    "\n",
    "# filtering 2\n",
    "user1_tdf.plot_trajectory(map_f=m2, zoom=12, weight=10, opacity=0.5, hex_color='black') \n",
    "user1_f2_tdf.plot_trajectory(map_f=m2, start_end_markers=False, hex_color='blue')\n",
    "#display(map_f)\n",
    "map_f"
   ]
  },
  {
   "cell_type": "markdown",
   "metadata": {
    "id": "j3Qe0LvnJFOp"
   },
   "source": [
    "<a id=\"compression\"></a>\n",
    "## Trajectory compression\n",
    "\n",
    "The goal of trajectory compression is to reduce the number of points while preserving the trajectory structure. \n",
    "\n",
    "In scikit-mobility, we can use the method `compression.compress` under the preprocessing module. \n",
    "\n",
    "All points within a radius of `spatial_radius_km` kilometers from a given initial point are compressed into a single point that has the median coordinates of all points and the time of the initial point. \n",
    "\n",
    "check the documentation of `compress` here: https://scikit-mobility.github.io/scikit-mobility/reference/preprocessing.html#skmob.preprocessing.compression.compress "
   ]
  },
  {
   "cell_type": "code",
   "execution_count": null,
   "metadata": {
    "id": "LrLqpogbJYhy"
   },
   "outputs": [],
   "source": [
    "from skmob.preprocessing import compression"
   ]
  },
  {
   "cell_type": "code",
   "execution_count": null,
   "metadata": {
    "id": "xcQvCuZ2qwL_"
   },
   "outputs": [],
   "source": [
    "fc_tdf = compression.compress(f_tdf, spatial_radius_km=0.2)\n",
    "fc_tdf.head()"
   ]
  },
  {
   "cell_type": "code",
   "execution_count": null,
   "metadata": {
    "id": "pSDHvpo5hKp1"
   },
   "outputs": [],
   "source": [
    "print('Points of the filtered trajectory:\\t%s'%len(f_tdf))\n",
    "print('Points of the compressed trajectory:\\t%s'%len(fc_tdf))\n",
    "print('Compressed points:\\t\\t\\t%s'%(len(f_tdf) - len(fc_tdf)))"
   ]
  },
  {
   "cell_type": "code",
   "execution_count": null,
   "metadata": {
    "id": "OgpqreXeh4wY"
   },
   "outputs": [],
   "source": [
    "fc_tdf.parameters"
   ]
  },
  {
   "cell_type": "code",
   "execution_count": null,
   "metadata": {
    "id": "QiKMyKVxhryL"
   },
   "outputs": [],
   "source": [
    "user1_fc_tdf = fc_tdf[fc_tdf['uid'] == 1]"
   ]
  },
  {
   "cell_type": "code",
   "execution_count": null,
   "metadata": {
    "id": "nVBl3KXmiBKE"
   },
   "outputs": [],
   "source": [
    "print('Points of the filtered trajectory:\\t%s'%len(user1_f_tdf))\n",
    "print('Points of the compressed trajectory:\\t%s'%len(user1_fc_tdf))\n",
    "print('Compressed points:\\t\\t\\t%s'%(len(user1_f_tdf)-len(user1_fc_tdf)))"
   ]
  },
  {
   "cell_type": "code",
   "execution_count": null,
   "metadata": {},
   "outputs": [],
   "source": [
    "map_f = user1_tdf.plot_trajectory(zoom=12, weight=10, opacity=0.5, hex_color='black') \n",
    "user1_fc_tdf.plot_trajectory(map_f=map_f, hex_color='blue')"
   ]
  },
  {
   "cell_type": "markdown",
   "metadata": {
    "id": "GZ4ozGCDG1t_"
   },
   "source": [
    "### Playing the the `spatial_radius_km` parameter"
   ]
  },
  {
   "cell_type": "code",
   "execution_count": null,
   "metadata": {
    "id": "ja-RgOhBiKlS"
   },
   "outputs": [],
   "source": [
    "end_time = user1_f_tdf.iloc[10000]['datetime']\n",
    "map_f = user1_f_tdf[user1_f_tdf['datetime'] < end_time].plot_trajectory(zoom=14, weight=5, hex_color='black',\n",
    "                                                                      opacity=0.5, start_end_markers=False)\n",
    "user1_fc_tdf[user1_fc_tdf['datetime'] < end_time].plot_trajectory(map_f=map_f, \\\n",
    "                                                  start_end_markers=False, hex_color='red')"
   ]
  },
  {
   "cell_type": "code",
   "execution_count": null,
   "metadata": {
    "id": "etKjMrGxiXRl"
   },
   "outputs": [],
   "source": [
    "spatial_radius_km=0.5\n",
    "\n",
    "user1_fc_tdf = compression.compress(user1_f_tdf, spatial_radius_km=spatial_radius_km)\n",
    "end_time = user1_f_tdf.iloc[10000]['datetime']\n",
    "map_f = user1_f_tdf[user1_f_tdf['datetime'] < end_time].plot_trajectory(zoom=14, weight=5, hex_color='black',\n",
    "                                                                      opacity=0.5, start_end_markers=False)\n",
    "user1_fc_tdf[user1_fc_tdf['datetime'] < end_time].plot_trajectory(map_f=map_f, \\\n",
    "                                                  start_end_markers=False, hex_color='red')"
   ]
  },
  {
   "cell_type": "markdown",
   "metadata": {
    "id": "2NK3gYngHczm"
   },
   "source": [
    "<a id=\"stopdetection\"></a>\n",
    "## Stop detection\n",
    "\n",
    "Some points in a trajectory can represent Point-Of-Interests (POIs) such as schools, restaurants, and bars or represent individual-specific places such as home and work locations. These points are usually called Stay Points or Stops, and they can be detected in different ways.\n",
    "\n",
    "A common approach is to apply spatial clustering algorithms to cluster trajectory points by looking at their spatial proximity. \n",
    "\n",
    "In scikit-mobility, the `stay_locations` function in the `detection` module finds the stay points visited by an object. \n",
    "\n",
    "A stop is detected when the individual spends at least `minutes_for_a_stop` minutes within a distance `stop_radius_factor * spatial_radius_km` from a given trajectory point. \n",
    "\n",
    "The stop’s coordinates are the median latitude and longitude values of the points found within the specified distance\n",
    "\n",
    "Check the documentation of `stops` here: https://scikit-mobility.github.io/scikit-mobility/reference/preprocessing.html#skmob.preprocessing.detection.stops"
   ]
  },
  {
   "cell_type": "code",
   "execution_count": null,
   "metadata": {
    "id": "0NeT0XnfqQIV"
   },
   "outputs": [],
   "source": [
    "from skmob.preprocessing import detection"
   ]
  },
  {
   "cell_type": "code",
   "execution_count": null,
   "metadata": {
    "id": "gVvwJRIFIIza"
   },
   "outputs": [],
   "source": [
    "fcs_tdf = detection.stay_locations(fc_tdf, stop_radius_factor=0.5, \n",
    "                          minutes_for_a_stop=20.0, spatial_radius_km=0.2)\n",
    "fcs_tdf.head()"
   ]
  },
  {
   "cell_type": "markdown",
   "metadata": {
    "id": "c1k-skFUqY2Y"
   },
   "source": [
    "A new column `leaving_datetime` is added to the `TrajDataFrame` to indicate the time when the moving object left the stop location."
   ]
  },
  {
   "cell_type": "code",
   "execution_count": null,
   "metadata": {
    "id": "Lcrl8y_ToDXQ"
   },
   "outputs": [],
   "source": [
    "fcs_tdf.parameters"
   ]
  },
  {
   "cell_type": "markdown",
   "metadata": {
    "id": "L8FTx3P7oerp"
   },
   "source": [
    "#### Visualise the compressed trajectory and the stops\n",
    "Click on the stop markers to see a pop up with:\n",
    "\n",
    "- User ID\n",
    "- Coordinates of the stop (click to see the location on Google maps)\n",
    "- Arrival time\n",
    "- Departure time"
   ]
  },
  {
   "cell_type": "code",
   "execution_count": null,
   "metadata": {
    "id": "aemQLio_oNJJ"
   },
   "outputs": [],
   "source": [
    "user1_fcs_tdf = fcs_tdf[fcs_tdf['uid'] == 1]\n",
    "map_f = user1_fcs_tdf.plot_trajectory(hex_color='blue', start_end_markers=False)\n",
    "user1_fcs_tdf.plot_stops(map_f=map_f, hex_color='red', number_of_sides=4, radius=8)"
   ]
  },
  {
   "cell_type": "code",
   "execution_count": null,
   "metadata": {
    "id": "yUFc2aV9otGR"
   },
   "outputs": [],
   "source": [
    "dt1 = user1_fcs_tdf.iloc[0].leaving_datetime\n",
    "dt2 = user1_fcs_tdf.iloc[1].leaving_datetime\n",
    "dt1, dt2"
   ]
  },
  {
   "cell_type": "code",
   "execution_count": null,
   "metadata": {
    "id": "_7rwHCHQoyBk"
   },
   "outputs": [],
   "source": [
    "# select all points between the first two stops\n",
    "user1_tid1_tdf = user1_tdf[(user1_tdf.datetime >= dt1) \n",
    "                           & (user1_tdf.datetime <= dt2)]\n",
    "user1_tid1_tdf.head()"
   ]
  },
  {
   "cell_type": "code",
   "execution_count": null,
   "metadata": {
    "id": "gH0D0XxPo4_C"
   },
   "outputs": [],
   "source": [
    "# plot the trip\n",
    "user1_tid1_map = user1_tid1_tdf.plot_trajectory(zoom=12, weight=5, opacity=0.9, hex_color='red', tiles='Stamen Toner', )\n",
    "user1_tid1_map"
   ]
  },
  {
   "cell_type": "markdown",
   "metadata": {
    "id": "88PGECxkpYKy"
   },
   "source": [
    "<a id=\"clustering\"></a>\n",
    "## Clustering\n",
    "\n",
    "The stops correspond to visits to the same location at different times, based on spatial proximity. \n",
    "\n",
    "The clustering algorithm used is DBSCAN (by sklearn).\n",
    "\n",
    "- a new column cluster is added with cluster ID (int)\n",
    "- 0 is the most visited, 1 the second most visited, etc."
   ]
  },
  {
   "cell_type": "code",
   "execution_count": null,
   "metadata": {
    "id": "4dyBkMZeqGoQ"
   },
   "outputs": [],
   "source": [
    "from skmob.preprocessing import clustering"
   ]
  },
  {
   "cell_type": "code",
   "execution_count": null,
   "metadata": {
    "id": "7vvyl5enpamY"
   },
   "outputs": [],
   "source": [
    "fcscl_tdf = clustering.cluster(fcs_tdf, cluster_radius_km=0.1, min_samples=1)\n",
    "fcscl_tdf.head()"
   ]
  },
  {
   "cell_type": "code",
   "execution_count": null,
   "metadata": {
    "id": "-jGLXjo0puYi"
   },
   "outputs": [],
   "source": [
    "fcscl_tdf.parameters"
   ]
  },
  {
   "cell_type": "code",
   "execution_count": null,
   "metadata": {
    "id": "SRsfPFWOpzMW"
   },
   "outputs": [],
   "source": [
    "user1_fcscl_tdf = fcscl_tdf[fcscl_tdf['uid'] == 1]\n",
    "map_f = user1_fcscl_tdf.plot_trajectory(start_end_markers=False, hex_color='black')\n",
    "user1_fcscl_tdf.plot_stops(map_f=map_f, radius=8)"
   ]
  },
  {
   "cell_type": "markdown",
   "metadata": {
    "id": "AUDlntEQH5Gs"
   },
   "source": [
    "### Playing with the `cluster_radius_km` parameter"
   ]
  },
  {
   "cell_type": "code",
   "execution_count": null,
   "metadata": {
    "id": "DtGjAi6nqEV2"
   },
   "outputs": [],
   "source": [
    "user1_fcscl_tdf = clustering.cluster(user1_fcs_tdf, cluster_radius_km=0.5, min_samples=1)\n",
    "map_f = user1_fcscl_tdf.plot_trajectory(start_end_markers=False, hex_color='black')\n",
    "user1_fcscl_tdf.plot_stops(map_f=map_f, radius=8)"
   ]
  },
  {
   "cell_type": "markdown",
   "metadata": {},
   "source": [
    "<a id=\"practice\"></a>\n",
    "## Practice"
   ]
  },
  {
   "cell_type": "markdown",
   "metadata": {
    "id": "QI7cNl_98kZi"
   },
   "source": [
    "### Load the tessellation of the neighborhoods in San Francisco\n",
    "- find it here: https://raw.githubusercontent.com/scikit-mobility/tutorials/master/mda_masterbd2020/data/bay_area_zip_codes.geojson\n",
    "- visualize the tessellation (use black for background, red for borders, and a value of 2 for the weight of the borders)"
   ]
  },
  {
   "cell_type": "code",
   "execution_count": null,
   "metadata": {
    "id": "am58FxoXxlMb"
   },
   "outputs": [],
   "source": [
    "# create a TrajDataFrame from a dataset of trajectories \n",
    "url = \"https://raw.githubusercontent.com/scikit-mobility/tutorials/master/mda_masterbd2020/data/bay_area_zip_codes.geojson\"\n",
    "tessellation = gpd.read_file(url) # load a tessellation\n",
    "geoms = [geom[0] for geom in tessellation['geometry']]\n",
    "tessellation['geometry'] = geoms\n",
    "tessellation.head()"
   ]
  },
  {
   "cell_type": "code",
   "execution_count": null,
   "metadata": {
    "id": "0USO0HqTxsb9"
   },
   "outputs": [],
   "source": [
    "tessellation.rename(columns={'zip': 'tile_ID'}, inplace=True)\n",
    "print(tessellation.shape)\n",
    "tessellation.head()"
   ]
  },
  {
   "cell_type": "code",
   "execution_count": null,
   "metadata": {},
   "outputs": [],
   "source": [
    "from skmob.utils.plot import plot_gdf"
   ]
  },
  {
   "cell_type": "code",
   "execution_count": null,
   "metadata": {
    "id": "P-KKlHc3xxQb"
   },
   "outputs": [],
   "source": [
    "tess_style = {'color':'black', 'fillColor':'black', 'weight': 1}\n",
    "popup_features=['tile_ID', 'po_name', 'area']\n",
    "map_f = plot_gdf(tessellation, zoom=9, style_func_args=tess_style, \n",
    "             popup_features=popup_features)\n",
    "map_f"
   ]
  },
  {
   "cell_type": "markdown",
   "metadata": {
    "id": "Jdv1QbPY8kZp"
   },
   "source": [
    "### Load the taxi San Francisco dataset\n",
    "\n",
    "- [**download the dataset**](https://drive.google.com/file/d/1fKB3W10bY2OAZmz2XEICTEVHpIxnxw98/view) and put it into a `data` folder"
   ]
  },
  {
   "cell_type": "code",
   "execution_count": null,
   "metadata": {
    "id": "B7ZAlf23ycTD"
   },
   "outputs": [],
   "source": [
    "%%time\n",
    "mydateparser = lambda x: pd.to_datetime(x, unit='s')\n",
    "tdf = skmob.TrajDataFrame(\n",
    "    pd.read_csv('data/cabs.csv.gz', \n",
    "    compression='gzip', parse_dates = ['timestamp'], \n",
    "    date_parser=mydateparser), longitude='lon', \n",
    "    datetime='timestamp', user_id='driver').sort_values(by=['uid', 'datetime'])"
   ]
  },
  {
   "cell_type": "code",
   "execution_count": null,
   "metadata": {},
   "outputs": [],
   "source": [
    "print('records: %s' %len(tdf))\n",
    "print('taxis: %s' %len(tdf['uid'].unique()))\n",
    "print('period: %s - %s' %(tdf.datetime.min(), tdf.datetime.max()))\n",
    "tdf.head()"
   ]
  },
  {
   "cell_type": "code",
   "execution_count": null,
   "metadata": {},
   "outputs": [],
   "source": [
    "tdf.plot_trajectory(start_end_markers=False, opacity=0.15, hex_color='red', zoom=10)"
   ]
  },
  {
   "cell_type": "markdown",
   "metadata": {
    "id": "Wl5fsQ698kZr"
   },
   "source": [
    "### Select a subset of days and drivers\n",
    "- select the first 100 drivers\n",
    "- select points up to `2008-05-21 00:00:00`\n",
    "\n",
    "Print again:\n",
    "- the number of records\n",
    "- the number of taxis\n",
    "- the period of time covered by the dataset"
   ]
  },
  {
   "cell_type": "code",
   "execution_count": null,
   "metadata": {
    "id": "xjQ92i93zmro"
   },
   "outputs": [],
   "source": [
    "max_datetime = pd.to_datetime('2008-05-21 00:00:00')\n",
    "drivers = tdf['uid'].unique()[:100]\n",
    "tdf = tdf[(tdf['datetime'] <= max_datetime) & (tdf['uid'].isin(drivers))]\n",
    "print('records: %s' %len(tdf))\n",
    "print('taxis: %s' %len(tdf['uid'].unique()))\n",
    "print('period: %s - %s' %(tdf.datetime.min(), tdf.datetime.max()))\n",
    "tdf.head()"
   ]
  },
  {
   "cell_type": "markdown",
   "metadata": {
    "id": "yzrTtLjH8kZs"
   },
   "source": [
    "### Filtering \n",
    "Filter the trajectories with the `filtering` function using `max_speed_kmh=500.0`\n",
    "\n",
    "Print:\n",
    "- how many points the new `TrajDataFrame` has\n",
    "- how many points have been filtered out"
   ]
  },
  {
   "cell_type": "code",
   "execution_count": null,
   "metadata": {
    "id": "XOiS0pqszra-"
   },
   "outputs": [],
   "source": [
    "%%time\n",
    "f_tdf = filtering.filter(tdf, max_speed_kmh=500.0)\n",
    "print('Number of records:\\t%s'%len(f_tdf))\n",
    "print('Filtered points:\\t%s'%(len(tdf) - len(f_tdf)))"
   ]
  },
  {
   "cell_type": "markdown",
   "metadata": {
    "id": "2j44-8gv1Nrm"
   },
   "source": [
    "Visualize the trajectory of user `uid = 'abboip'` and the filtered trajectory of the same user"
   ]
  },
  {
   "cell_type": "code",
   "execution_count": null,
   "metadata": {
    "id": "O_--lqNOzzxH"
   },
   "outputs": [],
   "source": [
    "map_f = f_tdf[f_tdf['uid'] == 'abboip'].plot_trajectory(hex_color='red')\n",
    "map_f = tdf[tdf['uid'] == 'abboip'].plot_trajectory(map_f=map_f, hex_color='blue', opacity=0.5)\n",
    "map_f"
   ]
  },
  {
   "cell_type": "markdown",
   "metadata": {
    "id": "VkP8TyqJ1Xnx"
   },
   "source": [
    "Filter the original `TrajDataFrame` using `max_speed_kmh=100.0`\n",
    "- print how many records have been filtered out\n",
    "- plot the trajectories of the initial trajectory and the new filtered one of user `'abboip'`"
   ]
  },
  {
   "cell_type": "code",
   "execution_count": null,
   "metadata": {
    "id": "I-j4Yo0B1otq"
   },
   "outputs": [],
   "source": [
    "f_tdf2 = filtering.filter(tdf, max_speed_kmh=100.0)\n",
    "print('Number of records:\\t%s'%len(f_tdf2))\n",
    "print('Filtered points:\\t%s'%(len(tdf) - len(f_tdf2)))"
   ]
  },
  {
   "cell_type": "code",
   "execution_count": null,
   "metadata": {
    "id": "B8AwUS071sZQ"
   },
   "outputs": [],
   "source": [
    "map_f = f_tdf2[f_tdf2['uid'] == 'abboip'].plot_trajectory(hex_color='red')\n",
    "map_f = tdf[tdf['uid'] == 'abboip'].plot_trajectory(map_f=map_f, hex_color='blue', opacity=0.5)\n",
    "map_f"
   ]
  },
  {
   "cell_type": "markdown",
   "metadata": {
    "id": "vQ5_kdd08kZu"
   },
   "source": [
    "### Compression \n",
    "Compress the `TrajDataFrame` filtered with `max_speed_kmh=500.0` using default argument valueùs"
   ]
  },
  {
   "cell_type": "code",
   "execution_count": null,
   "metadata": {
    "id": "lFqnvoxKzyP9"
   },
   "outputs": [],
   "source": [
    "%%time\n",
    "cf_tdf = compression.compress(f_tdf)\n",
    "print('Points of the filtered trajectory:\\t%s'%len(f_tdf))\n",
    "print('Points of the compressed trajectory:\\t%s'%len(cf_tdf))\n",
    "print('Compressed points:\\t\\t\\t%s'%(len(f_tdf)-len(cf_tdf)))"
   ]
  },
  {
   "cell_type": "markdown",
   "metadata": {
    "id": "rY50iub22Lgl"
   },
   "source": [
    "Print the `parameters` attributed of the obtained `TrajDataFrame`"
   ]
  },
  {
   "cell_type": "code",
   "execution_count": null,
   "metadata": {
    "id": "eY_MHkKDz2ao"
   },
   "outputs": [],
   "source": [
    "cf_tdf.parameters"
   ]
  },
  {
   "cell_type": "code",
   "execution_count": null,
   "metadata": {
    "id": "UXzx3Qicz52b"
   },
   "outputs": [],
   "source": [
    "cf_tdf.plot_trajectory(map_f=map_f, start_end_markers=False)"
   ]
  },
  {
   "cell_type": "markdown",
   "metadata": {
    "id": "ElLsZpot2zfR"
   },
   "source": [
    "Plot the compressed trajectory of user `abboip` and the original trajectory of the same user together"
   ]
  },
  {
   "cell_type": "code",
   "execution_count": null,
   "metadata": {
    "id": "NIi5VGRA20zd"
   },
   "outputs": [],
   "source": [
    "map_f = cf_tdf[cf_tdf['uid'] == 'abboip'].plot_trajectory(hex_color='red')\n",
    "map_f = tdf[tdf['uid'] == 'abboip'].plot_trajectory(map_f=map_f, hex_color='blue', opacity=0.5)\n",
    "map_f"
   ]
  },
  {
   "cell_type": "markdown",
   "metadata": {
    "id": "yXdZMphw3XFb"
   },
   "source": [
    "Create a very compressed tdf (`spatial_radius_km=2.0`) and visually compare the compressed trajectory of `abboip` with their original one"
   ]
  },
  {
   "cell_type": "code",
   "execution_count": null,
   "metadata": {
    "id": "HS_hBQXv3oBW"
   },
   "outputs": [],
   "source": [
    "cf_tdf2 = compression.compress(f_tdf, spatial_radius_km=2.0)\n",
    "map_f = cf_tdf2[cf_tdf2['uid'] == 'abboip'].plot_trajectory(hex_color='red')\n",
    "map_f = tdf[tdf['uid'] == 'abboip'].plot_trajectory(map_f=map_f, hex_color='blue', opacity=0.5)\n",
    "map_f"
   ]
  },
  {
   "cell_type": "markdown",
   "metadata": {},
   "source": [
    "### Stop detection\n",
    "Detect the stops (stay locations) in the `TrajDataFrame` filtered and compressed"
   ]
  },
  {
   "cell_type": "code",
   "execution_count": null,
   "metadata": {},
   "outputs": [],
   "source": [
    "from skmob.preprocessing.detection import stay_locations"
   ]
  },
  {
   "cell_type": "code",
   "execution_count": null,
   "metadata": {},
   "outputs": [],
   "source": [
    "scf_tdf = stay_locations(cf_tdf, minutes_for_a_stop=5)\n",
    "print(len(scf_tdf))\n",
    "scf_tdf.head()"
   ]
  },
  {
   "cell_type": "code",
   "execution_count": null,
   "metadata": {},
   "outputs": [],
   "source": [
    "map_f = cf_tdf[cf_tdf['uid'] == 'abboip'].plot_trajectory(hex_color='red')\n",
    "map_f = scf_tdf[scf_tdf['uid'] == 'abboip'].plot_stops(map_f=map_f, hex_color='blue')\n",
    "map_f"
   ]
  },
  {
   "cell_type": "markdown",
   "metadata": {},
   "source": [
    "### Clustering\n",
    "Clusters the stops"
   ]
  },
  {
   "cell_type": "code",
   "execution_count": null,
   "metadata": {},
   "outputs": [],
   "source": [
    "cl_scf_tdf = clustering.cluster(scf_tdf)\n",
    "cl_scf_tdf.head()"
   ]
  },
  {
   "cell_type": "code",
   "execution_count": null,
   "metadata": {},
   "outputs": [],
   "source": [
    "map_f = cf_tdf[cf_tdf['uid'] == 'abboip'].plot_trajectory(hex_color='red', start_end_markers=False)\n",
    "map_f = cl_scf_tdf[cl_scf_tdf['uid'] == 'abboip'].plot_stops(map_f=map_f, radius=8)\n",
    "map_f"
   ]
  },
  {
   "cell_type": "markdown",
   "metadata": {
    "id": "eZ3hkcnA8kZ2"
   },
   "source": [
    "### Focus on Berkeley\n",
    "- select only tiles in the tessellation for which `po_name = BERKELEY`"
   ]
  },
  {
   "cell_type": "code",
   "execution_count": null,
   "metadata": {
    "id": "cN4gAEmS1ghj"
   },
   "outputs": [],
   "source": [
    "berkeley = tessellation[tessellation['po_name'] == 'BERKELEY']\n",
    "berkeley"
   ]
  },
  {
   "cell_type": "markdown",
   "metadata": {
    "id": "oi3RfLUf1mN3"
   },
   "source": [
    "- plot the tessellation"
   ]
  },
  {
   "cell_type": "code",
   "execution_count": null,
   "metadata": {
    "id": "7cA5N2-71j3p"
   },
   "outputs": [],
   "source": [
    "ber_map_f = plot_gdf(berkeley, zoom=12)\n",
    "ber_map_f"
   ]
  },
  {
   "cell_type": "markdown",
   "metadata": {
    "id": "RyzSGgBE1pJO"
   },
   "source": [
    "- map the tdf to this new tessellation (with `remove_na=True`)"
   ]
  },
  {
   "cell_type": "code",
   "execution_count": null,
   "metadata": {
    "id": "OI2CPn5K1rB7"
   },
   "outputs": [],
   "source": [
    "mapped_cf_tdf_ber = cf_tdf.mapping(berkeley, remove_na=True)\n",
    "mapped_cf_tdf_ber.head()"
   ]
  },
  {
   "cell_type": "markdown",
   "metadata": {
    "id": "DZw4WceP1wWo"
   },
   "source": [
    "- plot the trajectories on top of the the new tessellation"
   ]
  },
  {
   "cell_type": "code",
   "execution_count": null,
   "metadata": {
    "id": "6AnQY7vp1xrH"
   },
   "outputs": [],
   "source": [
    "mapped_cf_tdf_ber.plot_trajectory(map_f=ber_map_f, start_end_markers=False)"
   ]
  },
  {
   "cell_type": "markdown",
   "metadata": {
    "id": "-9X7vsKN8kZ7"
   },
   "source": [
    "<a id=\"flowtotraj\"></a>\n",
    "## Extracting a `FlowDataFrame` from a `TrajDataFrame`"
   ]
  },
  {
   "cell_type": "code",
   "execution_count": null,
   "metadata": {
    "id": "8mkE-oeq2B9y"
   },
   "outputs": [],
   "source": [
    "fdf = cf_tdf.to_flowdataframe(tessellation)\n",
    "fdf.head()"
   ]
  },
  {
   "cell_type": "code",
   "execution_count": null,
   "metadata": {
    "id": "Ev_KphGR2HmE"
   },
   "outputs": [],
   "source": [
    "map_f = fdf.plot_tessellation(zoom=10, style_func_args=tess_style, )\n",
    "fdf.plot_flows(map_f=map_f, flow_color='red', color_origin_point='red', \n",
    "               min_flow=0, flow_exp=0.5, radius_origin_point=5)"
   ]
  },
  {
   "cell_type": "markdown",
   "metadata": {
    "id": "Xs-hY_9f8kaB"
   },
   "source": [
    "## Comparing two users\n",
    "- select the 1st and the 6th driver in the list of drivers\n",
    "- create two new TDFs with their trajectories\n",
    "- compare their trajectories in a DualMap\n",
    "- add to the two maps also the heatmap and the cloropleth map"
   ]
  },
  {
   "cell_type": "code",
   "execution_count": null,
   "metadata": {},
   "outputs": [],
   "source": [
    "driver1_tdf = cf_tdf[cf_tdf['uid'] == cf_tdf['uid'].unique()[0]]\n",
    "driver2_tdf = cf_tdf[cf_tdf['uid'] == cf_tdf['uid'].unique()[5]]"
   ]
  },
  {
   "cell_type": "code",
   "execution_count": null,
   "metadata": {},
   "outputs": [],
   "source": [
    "driver1_tdf.head()"
   ]
  },
  {
   "cell_type": "code",
   "execution_count": null,
   "metadata": {
    "id": "7BjqnvRc3LW5"
   },
   "outputs": [],
   "source": [
    "map_f = folium.plugins.DualMap(location=(tdf['lat'].mean(), \n",
    "                                         tdf['lng'].mean()), \n",
    "                                       tiles='cartodbpositron', zoom_start=12)\n",
    "m1, m2 = map_f.m1, map_f.m2\n",
    "driver1_tdf = cf_tdf[cf_tdf['uid'] == cf_tdf['uid'].unique()[0]]\n",
    "driver2_tdf = cf_tdf[cf_tdf['uid'] == cf_tdf['uid'].unique()[5]]\n",
    "\n",
    "driver1_tdf.plot_trajectory(map_f=m1, start_end_markers=False, hex_color='red')\n",
    "driver2_tdf.plot_trajectory(map_f=m2, start_end_markers=False, hex_color='blue')\n",
    "\n",
    "map_f"
   ]
  },
  {
   "cell_type": "markdown",
   "metadata": {
    "id": "EO6bvsbL3qk9"
   },
   "source": [
    "Compare in a DualMap the `FlowDataFrame`s of the two drivers"
   ]
  },
  {
   "cell_type": "code",
   "execution_count": null,
   "metadata": {
    "id": "YPZ0Qf483arT"
   },
   "outputs": [],
   "source": [
    "map_f = folium.plugins.DualMap(location=(cf_tdf['lat'].mean(), \n",
    "                                         cf_tdf['lng'].mean()), \n",
    "                                       tiles='cartodbpositron', zoom_start=10)\n",
    "m1, m2 = map_f.m1, map_f.m2\n",
    "\n",
    "fdf1 = driver1_tdf.to_flowdataframe(tessellation)\n",
    "map_f1 = fdf1.plot_tessellation(map_f=m1, style_func_args=tess_style)\n",
    "map_f1 = fdf1.plot_flows(map_f=map_f1, flow_color='red', color_origin_point='red', \n",
    "               min_flow=0, flow_exp=0.5, radius_origin_point=5)\n",
    "\n",
    "fdf2 = driver2_tdf.to_flowdataframe(tessellation)\n",
    "map_f2 = fdf2.plot_tessellation(map_f=m2, style_func_args=tess_style)\n",
    "map_f2 = fdf2.plot_flows(map_f=map_f2, flow_color='blue', color_origin_point='blue', \n",
    "               min_flow=0, flow_exp=0.5, radius_origin_point=5)\n",
    "map_f"
   ]
  },
  {
   "cell_type": "code",
   "execution_count": null,
   "metadata": {},
   "outputs": [],
   "source": []
  }
 ],
 "metadata": {
  "colab": {
   "collapsed_sections": [],
   "private_outputs": true,
   "provenance": []
  },
  "kernelspec": {
   "display_name": "Geospatial",
   "language": "python",
   "name": "geospatial"
  },
  "language_info": {
   "codemirror_mode": {
    "name": "ipython",
    "version": 3
   },
   "file_extension": ".py",
   "mimetype": "text/x-python",
   "name": "python",
   "nbconvert_exporter": "python",
   "pygments_lexer": "ipython3",
   "version": "3.9.13"
  }
 },
 "nbformat": 4,
 "nbformat_minor": 4
}
