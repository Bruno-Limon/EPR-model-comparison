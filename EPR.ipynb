{
 "cells": [
  {
   "cell_type": "markdown",
   "id": "d538b163-395f-4366-bdba-d1d3b98d6da6",
   "metadata": {},
   "source": [
    "- https://scikit-mobility.github.io/scikit-mobility/index.html\n",
    "- https://github.com/scikit-mobility/scikit-mobility\n",
    "- https://scikit-mobility.github.io/scikit-mobility/reference/models.html#skmob.models.epr.DensityEPR\n",
    "- https://opencellid.org/"
   ]
  },
  {
   "cell_type": "code",
   "execution_count": 103,
   "id": "a262c5cb-4b60-4620-91dd-ed076a791219",
   "metadata": {},
   "outputs": [],
   "source": [
    "# # In case of running on Google Colab\n",
    "# !apt-get install -qq curl g++ make\n",
    "# !curl -L http://download.osgeo.org/libspatialindex/spatialindex-src-1.8.5.tar.gz | tar xz\n",
    "# import os\n",
    "# os.chdir('spatialindex-src-1.8.5')\n",
    "# !./configure\n",
    "# !make\n",
    "# !make install\n",
    "# !pip install rtree\n",
    "# !ldconfig\n",
    "# !pip install scikit-mobility"
   ]
  },
  {
   "cell_type": "code",
   "execution_count": 75,
   "id": "c8748a93-b8d5-4909-98a0-ae2424f77bd7",
   "metadata": {},
   "outputs": [],
   "source": [
    "# Importing necessary libraries\n",
    "import numpy as np\n",
    "import matplotlib as plt\n",
    "import pandas as pd\n",
    "import geopandas as gpd\n",
    "\n",
    "import skmob\n",
    "from skmob.models.epr import DensityEPR, SpatialEPR, Ditras\n",
    "from skmob.models.markov_diary_generator import MarkovDiaryGenerator\n",
    "from skmob.preprocessing import filtering, compression, detection, clustering\n",
    "from skmob.measures.individual import jump_lengths, radius_of_gyration, uncorrelated_entropy, number_of_locations, number_of_visits, location_frequency"
   ]
  },
  {
   "cell_type": "code",
   "execution_count": 91,
   "id": "2b0f67f8-7f48-42b9-a916-230c5dfa49cc",
   "metadata": {},
   "outputs": [
    {
     "data": {
      "text/plain": [
       "{'divide': 'warn', 'over': 'warn', 'under': 'ignore', 'invalid': 'warn'}"
      ]
     },
     "execution_count": 91,
     "metadata": {},
     "output_type": "execute_result"
    }
   ],
   "source": [
    "np.seterr(divide = 'ignore') "
   ]
  },
  {
   "cell_type": "markdown",
   "id": "b865a756-c45e-4fa6-a50d-8e346ff7da97",
   "metadata": {
    "jp-MarkdownHeadingCollapsed": true,
    "tags": []
   },
   "source": [
    "# **<font color=\"#00c4b1\">1.0 SPATIAL EPR</font>**"
   ]
  },
  {
   "cell_type": "code",
   "execution_count": 101,
   "id": "3d750dd8-6097-436f-b840-8cc3073f970f",
   "metadata": {},
   "outputs": [
    {
     "name": "stderr",
     "output_type": "stream",
     "text": [
      "100%|██████████| 50/50 [00:04<00:00, 11.74it/s]\n"
     ]
    }
   ],
   "source": [
    "url = \"https://raw.githubusercontent.com/scikit-mobility/scikit-mobility/master/examples/NY_counties_2011.geojson\"\n",
    "tessellation = gpd.read_file(url)\n",
    "\n",
    "spatial_epr_model = SpatialEPR()\n",
    "tdf2 = spatial_epr_model.generate(start_date = start_time, \n",
    "                                  end_date = end_time, \n",
    "                                  spatial_tessellation = tessellation, \n",
    "                                  n_agents = 50,\n",
    "                                  show_progress = True, \n",
    "                                  random_state = 42)"
   ]
  },
  {
   "cell_type": "code",
   "execution_count": 102,
   "id": "968b4310-7d6e-4592-b07d-dcd6f97b2f52",
   "metadata": {},
   "outputs": [
    {
     "name": "stderr",
     "output_type": "stream",
     "text": [
      "100%|██████████| 50/50 [00:00<00:00, 318.76it/s]\n"
     ]
    },
    {
     "data": {
      "text/plain": [
       "192"
      ]
     },
     "execution_count": 102,
     "metadata": {},
     "output_type": "execute_result"
    }
   ],
   "source": [
    "jl_df = jump_lengths(tdf2)\n",
    "len(jl_df['jump_lengths'][0])"
   ]
  },
  {
   "cell_type": "markdown",
   "id": "74d44cf7-40be-4f41-9ec6-089d574d20fc",
   "metadata": {
    "tags": []
   },
   "source": [
    "## **<font color=\"#00c4b1\">1.1 SPATIAL EPR - AREA 1</font>**"
   ]
  },
  {
   "cell_type": "code",
   "execution_count": null,
   "id": "ebf4a15e-4c4a-4f52-afb7-1b021d1d028a",
   "metadata": {},
   "outputs": [],
   "source": []
  },
  {
   "cell_type": "markdown",
   "id": "0026fe00-7a63-4084-bd6e-ad1083ad05b9",
   "metadata": {
    "tags": []
   },
   "source": [
    "## **<font color=\"#00c4b1\">1.2 SPATIAL EPR - AREA 2</font>**"
   ]
  },
  {
   "cell_type": "code",
   "execution_count": null,
   "id": "e4c44048-3404-4ef7-bc00-8857203e1d48",
   "metadata": {},
   "outputs": [],
   "source": []
  },
  {
   "cell_type": "markdown",
   "id": "86d1ba4f-3945-43e3-a1c1-3f9d0740e660",
   "metadata": {
    "tags": []
   },
   "source": [
    "## **<font color=\"#00c4b1\">1.3 SPATIAL EPR - AREA 3</font>**"
   ]
  },
  {
   "cell_type": "code",
   "execution_count": null,
   "id": "9c874890-868a-460d-95f7-7b63cf6b3989",
   "metadata": {},
   "outputs": [],
   "source": []
  },
  {
   "cell_type": "markdown",
   "id": "035ae47f-f6b7-4ce4-b0c3-d9b0d8f37b0a",
   "metadata": {
    "tags": []
   },
   "source": [
    "## **<font color=\"#00c4b1\">1.4 SPATIAL EPR - AREA 4</font>**"
   ]
  },
  {
   "cell_type": "code",
   "execution_count": null,
   "id": "9501fab1-5023-418e-9b94-a847b092cdeb",
   "metadata": {},
   "outputs": [],
   "source": []
  },
  {
   "cell_type": "markdown",
   "id": "34722bda-2827-4273-8c8c-4d78da16b33e",
   "metadata": {
    "jp-MarkdownHeadingCollapsed": true,
    "tags": []
   },
   "source": [
    "# **<font color=\"#00c4b1\">2.0 DENSITY EPR</font>**"
   ]
  },
  {
   "cell_type": "code",
   "execution_count": 76,
   "id": "86791d43-4f2d-447c-b20d-1fd9170a5a6d",
   "metadata": {},
   "outputs": [
    {
     "name": "stderr",
     "output_type": "stream",
     "text": [
      "100%|██████████| 50/50 [00:04<00:00, 11.79it/s]\n"
     ]
    }
   ],
   "source": [
    "start_time = pd.to_datetime('2023/01/01 00:00:00')\n",
    "end_time = pd.to_datetime('2023/01/15 00:00:00')\n",
    "\n",
    "url = \"https://raw.githubusercontent.com/scikit-mobility/scikit-mobility/master/examples/NY_counties_2011.geojson\"\n",
    "tessellation = gpd.read_file(url)\n",
    "\n",
    "depr_model = DensityEPR()\n",
    "depr_tdf = depr_model.generate(start_date = start_time, \n",
    "                          end_date = end_time, \n",
    "                          spatial_tessellation = tessellation, \n",
    "                          relevance_column = 'population', \n",
    "                          n_agents = 50,\n",
    "                          show_progress = True, \n",
    "                          random_state = 42)"
   ]
  },
  {
   "cell_type": "code",
   "execution_count": 77,
   "id": "af056255-fe2f-4eaa-8062-2f72b947a48c",
   "metadata": {},
   "outputs": [
    {
     "data": {
      "text/plain": [
       "11121"
      ]
     },
     "execution_count": 77,
     "metadata": {},
     "output_type": "execute_result"
    }
   ],
   "source": [
    "jl_df = jump_lengths(tdf2)\n",
    "len(jl_df['jump_lengths'][0])"
   ]
  },
  {
   "cell_type": "code",
   "execution_count": 78,
   "id": "fc0dc3ce-836d-476b-9c60-93db6147708f",
   "metadata": {},
   "outputs": [
    {
     "name": "stderr",
     "output_type": "stream",
     "text": [
      "  0%|          | 0/50 [00:00<?, ?it/s]C:\\Users\\Pavilion\\anaconda3\\envs\\skmob\\lib\\site-packages\\skmob\\models\\gravity.py:43: RuntimeWarning: divide by zero encountered in power\n",
      "  return np.power(x, exponent)\n",
      "100%|██████████| 50/50 [00:04<00:00, 11.61it/s]\n"
     ]
    },
    {
     "data": {
      "text/plain": [
       "11121"
      ]
     },
     "execution_count": 78,
     "metadata": {},
     "output_type": "execute_result"
    }
   ],
   "source": [
    "np.seterr(divide = 'warn') \n",
    "\n",
    "start_time = pd.to_datetime('2023/01/01 00:00:00')\n",
    "end_time = pd.to_datetime('2023/01/15 00:00:00')\n",
    "\n",
    "url = \"https://raw.githubusercontent.com/scikit-mobility/scikit-mobility/master/examples/NY_counties_2011.geojson\"\n",
    "tessellation = gpd.read_file(url)\n",
    "\n",
    "depr_model = DensityEPR()\n",
    "depr_tdf = depr_model.generate(start_date = start_time, \n",
    "                          end_date = end_time, \n",
    "                          spatial_tessellation = tessellation, \n",
    "                          relevance_column = 'population', \n",
    "                          n_agents = 50,\n",
    "                          show_progress = True, \n",
    "                          random_state = 42)\n",
    "\n",
    "len(depr_tdf)"
   ]
  },
  {
   "cell_type": "markdown",
   "id": "98e4ec34-ec26-44f9-ad3f-b7ed683c7d1f",
   "metadata": {},
   "source": [
    "## **<font color=\"#00c4b1\">2.1 DENSITY EPR - AREA 1</font>**"
   ]
  },
  {
   "cell_type": "code",
   "execution_count": null,
   "id": "6bd33bae-4be2-404c-bc02-93da9c3f852b",
   "metadata": {},
   "outputs": [],
   "source": []
  },
  {
   "cell_type": "markdown",
   "id": "97778b50-c4c8-4b96-8cf7-90df81be8bfd",
   "metadata": {},
   "source": [
    "## **<font color=\"#00c4b1\">2.2 DENSITY EPR - AREA 2</font>**"
   ]
  },
  {
   "cell_type": "code",
   "execution_count": null,
   "id": "b46355a6-f67b-4f84-ad83-aadf7e66981a",
   "metadata": {},
   "outputs": [],
   "source": []
  },
  {
   "cell_type": "markdown",
   "id": "917913e6-a73f-4cc9-b5c8-242a757533ae",
   "metadata": {},
   "source": [
    "## **<font color=\"#00c4b1\">2.3 DENSITY EPR - AREA 3</font>**"
   ]
  },
  {
   "cell_type": "code",
   "execution_count": null,
   "id": "756f605e-fc3b-4519-a56b-b8ef6dff4ad9",
   "metadata": {},
   "outputs": [],
   "source": []
  },
  {
   "cell_type": "markdown",
   "id": "da353acc-a0d0-400f-9cc7-4fa26c117867",
   "metadata": {},
   "source": [
    "## **<font color=\"#00c4b1\">2.4 DENSITY EPR - AREA 4</font>**"
   ]
  },
  {
   "cell_type": "code",
   "execution_count": null,
   "id": "b60f948f-7fe0-4b83-ade3-44033cc9c6df",
   "metadata": {},
   "outputs": [],
   "source": []
  },
  {
   "cell_type": "markdown",
   "id": "6f23d847-c785-40fc-8486-02b39b877bda",
   "metadata": {
    "jp-MarkdownHeadingCollapsed": true,
    "tags": []
   },
   "source": [
    "# **<font color=\"#00c4b1\">3.0 DITRAS</font>**"
   ]
  },
  {
   "cell_type": "code",
   "execution_count": 69,
   "id": "25383519-abbf-43aa-9698-711518dad3fa",
   "metadata": {
    "tags": []
   },
   "outputs": [
    {
     "name": "stderr",
     "output_type": "stream",
     "text": [
      "100%|██████████| 2/2 [00:00<00:00,  3.10it/s]\n",
      "100%|██████████| 50/50 [00:00<00:00, 68.01it/s]\n"
     ]
    }
   ],
   "source": [
    "url = \"https://raw.githubusercontent.com/scikit-mobility/scikit-mobility/master/examples/geolife_sample.txt.gz\"\n",
    "df = pd.read_csv(url, sep = ',', compression = 'gzip')\n",
    "tdf = skmob.TrajDataFrame(df, latitude = 'lat', longitude = 'lon', user_id = 'user', datetime = 'datetime')\n",
    "ctdf = compression.compress(tdf)\n",
    "stdf = detection.stay_locations(ctdf)\n",
    "cstdf = clustering.cluster(stdf)\n",
    "\n",
    "# instantiate and train the MarkovDiaryGenerator\n",
    "mdg = MarkovDiaryGenerator()\n",
    "mdg.fit(cstdf, 2, lid='cluster')\n",
    "\n",
    "# Instatiating Ditras model\n",
    "ditras = Ditras(mdg)\n",
    "\n",
    "url2 = \"https://raw.githubusercontent.com/scikit-mobility/scikit-mobility/master/examples/NY_counties_2011.geojson\"\n",
    "tessellation = gpd.read_file(url2)\n",
    "\n",
    "tdf3 = ditras.generate(start_date = start_time, \n",
    "                                 end_date = end_time, \n",
    "                                 spatial_tessellation = tessellation, \n",
    "                                 relevance_column = 'population', \n",
    "                                 n_agents = 50,\n",
    "                                 od_matrix = None,\n",
    "                                 show_progress = True, \n",
    "                                 random_state = 42)"
   ]
  },
  {
   "cell_type": "code",
   "execution_count": 70,
   "id": "05933a5d-df8a-4557-a338-897d26f06a4b",
   "metadata": {},
   "outputs": [
    {
     "data": {
      "text/html": [
       "<div>\n",
       "<style scoped>\n",
       "    .dataframe tbody tr th:only-of-type {\n",
       "        vertical-align: middle;\n",
       "    }\n",
       "\n",
       "    .dataframe tbody tr th {\n",
       "        vertical-align: top;\n",
       "    }\n",
       "\n",
       "    .dataframe thead th {\n",
       "        text-align: right;\n",
       "    }\n",
       "</style>\n",
       "<table border=\"1\" class=\"dataframe\">\n",
       "  <thead>\n",
       "    <tr style=\"text-align: right;\">\n",
       "      <th></th>\n",
       "      <th>uid</th>\n",
       "      <th>datetime</th>\n",
       "      <th>lat</th>\n",
       "      <th>lng</th>\n",
       "    </tr>\n",
       "  </thead>\n",
       "  <tbody>\n",
       "    <tr>\n",
       "      <th>0</th>\n",
       "      <td>1</td>\n",
       "      <td>2023-01-01 00:00:00</td>\n",
       "      <td>42.393730</td>\n",
       "      <td>-76.875204</td>\n",
       "    </tr>\n",
       "    <tr>\n",
       "      <th>1</th>\n",
       "      <td>1</td>\n",
       "      <td>2023-01-01 08:00:00</td>\n",
       "      <td>42.452018</td>\n",
       "      <td>-76.473618</td>\n",
       "    </tr>\n",
       "    <tr>\n",
       "      <th>2</th>\n",
       "      <td>1</td>\n",
       "      <td>2023-01-02 00:00:00</td>\n",
       "      <td>42.393730</td>\n",
       "      <td>-76.875204</td>\n",
       "    </tr>\n",
       "    <tr>\n",
       "      <th>3</th>\n",
       "      <td>1</td>\n",
       "      <td>2023-01-04 14:00:00</td>\n",
       "      <td>42.452018</td>\n",
       "      <td>-76.473618</td>\n",
       "    </tr>\n",
       "    <tr>\n",
       "      <th>4</th>\n",
       "      <td>1</td>\n",
       "      <td>2023-01-05 03:00:00</td>\n",
       "      <td>42.170344</td>\n",
       "      <td>-76.306260</td>\n",
       "    </tr>\n",
       "    <tr>\n",
       "      <th>5</th>\n",
       "      <td>1</td>\n",
       "      <td>2023-01-05 04:00:00</td>\n",
       "      <td>42.452018</td>\n",
       "      <td>-76.473618</td>\n",
       "    </tr>\n",
       "    <tr>\n",
       "      <th>6</th>\n",
       "      <td>1</td>\n",
       "      <td>2023-01-05 09:00:00</td>\n",
       "      <td>42.393730</td>\n",
       "      <td>-76.875204</td>\n",
       "    </tr>\n",
       "    <tr>\n",
       "      <th>7</th>\n",
       "      <td>1</td>\n",
       "      <td>2023-01-05 13:00:00</td>\n",
       "      <td>42.393730</td>\n",
       "      <td>-76.875204</td>\n",
       "    </tr>\n",
       "    <tr>\n",
       "      <th>8</th>\n",
       "      <td>1</td>\n",
       "      <td>2023-01-07 22:00:00</td>\n",
       "      <td>42.170344</td>\n",
       "      <td>-76.306260</td>\n",
       "    </tr>\n",
       "    <tr>\n",
       "      <th>9</th>\n",
       "      <td>1</td>\n",
       "      <td>2023-01-08 03:00:00</td>\n",
       "      <td>42.393730</td>\n",
       "      <td>-76.875204</td>\n",
       "    </tr>\n",
       "    <tr>\n",
       "      <th>10</th>\n",
       "      <td>1</td>\n",
       "      <td>2023-01-09 14:00:00</td>\n",
       "      <td>40.657677</td>\n",
       "      <td>-73.838633</td>\n",
       "    </tr>\n",
       "    <tr>\n",
       "      <th>11</th>\n",
       "      <td>1</td>\n",
       "      <td>2023-01-10 00:00:00</td>\n",
       "      <td>42.393730</td>\n",
       "      <td>-76.875204</td>\n",
       "    </tr>\n",
       "    <tr>\n",
       "      <th>12</th>\n",
       "      <td>1</td>\n",
       "      <td>2023-01-10 05:00:00</td>\n",
       "      <td>42.702464</td>\n",
       "      <td>-78.224637</td>\n",
       "    </tr>\n",
       "    <tr>\n",
       "      <th>13</th>\n",
       "      <td>1</td>\n",
       "      <td>2023-01-10 06:00:00</td>\n",
       "      <td>42.393730</td>\n",
       "      <td>-76.875204</td>\n",
       "    </tr>\n",
       "    <tr>\n",
       "      <th>14</th>\n",
       "      <td>1</td>\n",
       "      <td>2023-01-11 05:00:00</td>\n",
       "      <td>42.393730</td>\n",
       "      <td>-76.875204</td>\n",
       "    </tr>\n",
       "    <tr>\n",
       "      <th>15</th>\n",
       "      <td>1</td>\n",
       "      <td>2023-01-12 06:00:00</td>\n",
       "      <td>42.170344</td>\n",
       "      <td>-76.306260</td>\n",
       "    </tr>\n",
       "    <tr>\n",
       "      <th>16</th>\n",
       "      <td>1</td>\n",
       "      <td>2023-01-12 07:00:00</td>\n",
       "      <td>42.141199</td>\n",
       "      <td>-76.759887</td>\n",
       "    </tr>\n",
       "    <tr>\n",
       "      <th>17</th>\n",
       "      <td>1</td>\n",
       "      <td>2023-01-12 10:00:00</td>\n",
       "      <td>42.393730</td>\n",
       "      <td>-76.875204</td>\n",
       "    </tr>\n",
       "    <tr>\n",
       "      <th>18</th>\n",
       "      <td>1</td>\n",
       "      <td>2023-01-13 09:00:00</td>\n",
       "      <td>42.170344</td>\n",
       "      <td>-76.306260</td>\n",
       "    </tr>\n",
       "    <tr>\n",
       "      <th>19</th>\n",
       "      <td>1</td>\n",
       "      <td>2023-01-13 12:00:00</td>\n",
       "      <td>42.393730</td>\n",
       "      <td>-76.875204</td>\n",
       "    </tr>\n",
       "    <tr>\n",
       "      <th>20</th>\n",
       "      <td>1</td>\n",
       "      <td>2023-01-13 13:00:00</td>\n",
       "      <td>42.393730</td>\n",
       "      <td>-76.875204</td>\n",
       "    </tr>\n",
       "    <tr>\n",
       "      <th>21</th>\n",
       "      <td>1</td>\n",
       "      <td>2023-01-14 11:00:00</td>\n",
       "      <td>42.170344</td>\n",
       "      <td>-76.306260</td>\n",
       "    </tr>\n",
       "  </tbody>\n",
       "</table>\n",
       "</div>"
      ],
      "text/plain": [
       "    uid            datetime        lat        lng\n",
       "0     1 2023-01-01 00:00:00  42.393730 -76.875204\n",
       "1     1 2023-01-01 08:00:00  42.452018 -76.473618\n",
       "2     1 2023-01-02 00:00:00  42.393730 -76.875204\n",
       "3     1 2023-01-04 14:00:00  42.452018 -76.473618\n",
       "4     1 2023-01-05 03:00:00  42.170344 -76.306260\n",
       "5     1 2023-01-05 04:00:00  42.452018 -76.473618\n",
       "6     1 2023-01-05 09:00:00  42.393730 -76.875204\n",
       "7     1 2023-01-05 13:00:00  42.393730 -76.875204\n",
       "8     1 2023-01-07 22:00:00  42.170344 -76.306260\n",
       "9     1 2023-01-08 03:00:00  42.393730 -76.875204\n",
       "10    1 2023-01-09 14:00:00  40.657677 -73.838633\n",
       "11    1 2023-01-10 00:00:00  42.393730 -76.875204\n",
       "12    1 2023-01-10 05:00:00  42.702464 -78.224637\n",
       "13    1 2023-01-10 06:00:00  42.393730 -76.875204\n",
       "14    1 2023-01-11 05:00:00  42.393730 -76.875204\n",
       "15    1 2023-01-12 06:00:00  42.170344 -76.306260\n",
       "16    1 2023-01-12 07:00:00  42.141199 -76.759887\n",
       "17    1 2023-01-12 10:00:00  42.393730 -76.875204\n",
       "18    1 2023-01-13 09:00:00  42.170344 -76.306260\n",
       "19    1 2023-01-13 12:00:00  42.393730 -76.875204\n",
       "20    1 2023-01-13 13:00:00  42.393730 -76.875204\n",
       "21    1 2023-01-14 11:00:00  42.170344 -76.306260"
      ]
     },
     "execution_count": 70,
     "metadata": {},
     "output_type": "execute_result"
    }
   ],
   "source": [
    "tdf3[tdf3['uid'] == 1]"
   ]
  },
  {
   "cell_type": "markdown",
   "id": "1385153d-26fc-42df-a654-f4210a036d80",
   "metadata": {},
   "source": [
    "## **<font color=\"#00c4b1\">3.1 DITRAS - AREA 1</font>**"
   ]
  },
  {
   "cell_type": "code",
   "execution_count": null,
   "id": "dcedb844-56c6-4af5-8f75-07658e3668a6",
   "metadata": {},
   "outputs": [],
   "source": []
  },
  {
   "cell_type": "markdown",
   "id": "880d24a8-2f5f-44bf-875c-ad7167fb2847",
   "metadata": {},
   "source": [
    "## **<font color=\"#00c4b1\">3.2 DITRAS - AREA 2</font>**"
   ]
  },
  {
   "cell_type": "code",
   "execution_count": null,
   "id": "bacaa365-e4a7-48bd-bfa0-f4a50c2044ac",
   "metadata": {},
   "outputs": [],
   "source": []
  },
  {
   "cell_type": "markdown",
   "id": "d3789575-13ef-4472-bdbb-3dc7a5fb321c",
   "metadata": {},
   "source": [
    "## **<font color=\"#00c4b1\">3.3 DITRAS - AREA 3</font>**"
   ]
  },
  {
   "cell_type": "code",
   "execution_count": null,
   "id": "634724b3-b498-422b-b9ee-21e897fa806f",
   "metadata": {},
   "outputs": [],
   "source": []
  },
  {
   "cell_type": "markdown",
   "id": "5b8961e5-ac3b-49af-b999-2c3adc16beb9",
   "metadata": {},
   "source": [
    "## **<font color=\"#00c4b1\">3.4 DITRAS - AREA 4</font>**"
   ]
  },
  {
   "cell_type": "code",
   "execution_count": null,
   "id": "c4a33339-1da0-4b52-a6fc-ee0990ba5718",
   "metadata": {},
   "outputs": [],
   "source": []
  }
 ],
 "metadata": {
  "kernelspec": {
   "display_name": "skmob",
   "language": "python",
   "name": "skmob"
  },
  "language_info": {
   "codemirror_mode": {
    "name": "ipython",
    "version": 3
   },
   "file_extension": ".py",
   "mimetype": "text/x-python",
   "name": "python",
   "nbconvert_exporter": "python",
   "pygments_lexer": "ipython3",
   "version": "3.9.16"
  }
 },
 "nbformat": 4,
 "nbformat_minor": 5
}
