{
 "cells": [
  {
   "cell_type": "code",
   "execution_count": 3,
   "id": "a49945a2",
   "metadata": {},
   "outputs": [],
   "source": [
    "# needed packages\n",
    "import shapely.geometry\n",
    "from shapely.geometry import Point, LineString, Polygon, MultiPolygon, GeometryCollection\n",
    "import matplotlib.pyplot as plt\n",
    "import geopandas as gpd"
   ]
  },
  {
   "cell_type": "code",
   "execution_count": 4,
   "id": "05b87d52",
   "metadata": {},
   "outputs": [
    {
     "name": "stdout",
     "output_type": "stream",
     "text": [
      "MULTIPOLYGON (((-10 10, -10 -10, 10 -10, 10 10, -10 10), (-2.5 0, -2.5 2, 0.5 2, 0.5 0, -2.5 0)))\n"
     ]
    },
    {
     "data": {
      "image/svg+xml": [
       "<svg xmlns=\"http://www.w3.org/2000/svg\" xmlns:xlink=\"http://www.w3.org/1999/xlink\" width=\"100.0\" height=\"100.0\" viewBox=\"-10.8 -10.8 21.6 21.6\" preserveAspectRatio=\"xMinYMin meet\"><g transform=\"matrix(1,0,0,-1,0,0.0)\"><g><path fill-rule=\"evenodd\" fill=\"#66cc99\" stroke=\"#555555\" stroke-width=\"0.43200000000000005\" opacity=\"0.6\" d=\"M -10.0,10.0 L -10.0,-10.0 L 10.0,-10.0 L 10.0,10.0 L -10.0,10.0 z M -2.5,0.0 L -2.5,2.0 L 0.5,2.0 L 0.5,0.0 L -2.5,0.0 z\" /></g></g></svg>"
      ],
      "text/plain": [
       "<shapely.geometry.multipolygon.MultiPolygon at 0x14d57b54640>"
      ]
     },
     "execution_count": 4,
     "metadata": {},
     "output_type": "execute_result"
    }
   ],
   "source": [
    "# Using wkt \"well known text\" to parse the coordinates for the polygons corresponging to the island and lake\n",
    "island_lake = shapely.wkt.loads(\"\"\"\n",
    "MULTIPOLYGON\n",
    "(((-10 10, -10 -10, 10 -10, 10 10, -10 10), (-2.5 0, -2.5 2, .5 2, .5 0,-2.5 0)))\n",
    "\"\"\")\n",
    "\n",
    "print(island_lake)\n",
    "island_lake"
   ]
  },
  {
   "cell_type": "code",
   "execution_count": 47,
   "id": "300a864c",
   "metadata": {},
   "outputs": [
    {
     "name": "stdout",
     "output_type": "stream",
     "text": [
      "POINT (3 2)\n"
     ]
    },
    {
     "data": {
      "image/svg+xml": [
       "<svg xmlns=\"http://www.w3.org/2000/svg\" xmlns:xlink=\"http://www.w3.org/1999/xlink\" width=\"100.0\" height=\"100.0\" viewBox=\"2.0 1.0 2.0 2.0\" preserveAspectRatio=\"xMinYMin meet\"><g transform=\"matrix(1,0,0,-1,0,4.0)\"><circle cx=\"3.0\" cy=\"2.0\" r=\"0.06\" stroke=\"#555555\" stroke-width=\"0.02\" fill=\"#66cc99\" opacity=\"0.6\" /></g></svg>"
      ],
      "text/plain": [
       "<shapely.geometry.point.Point at 0x1b92932d1f0>"
      ]
     },
     "execution_count": 47,
     "metadata": {},
     "output_type": "execute_result"
    }
   ],
   "source": [
    "# The house is made by a single point with the default buffer = 1\n",
    "house = Point(3,2)\n",
    "print(house)\n",
    "house"
   ]
  },
  {
   "cell_type": "code",
   "execution_count": 48,
   "id": "d9b0c62b",
   "metadata": {},
   "outputs": [
    {
     "name": "stdout",
     "output_type": "stream",
     "text": [
      "LINESTRING (-1 1, 3 2)\n"
     ]
    },
    {
     "data": {
      "image/svg+xml": [
       "<svg xmlns=\"http://www.w3.org/2000/svg\" xmlns:xlink=\"http://www.w3.org/1999/xlink\" width=\"100.0\" height=\"100.0\" viewBox=\"-1.16 0.84 4.32 1.3200000000000003\" preserveAspectRatio=\"xMinYMin meet\"><g transform=\"matrix(1,0,0,-1,0,3.0)\"><polyline fill=\"none\" stroke=\"#66cc99\" stroke-width=\"0.0864\" points=\"-1.0,1.0 3.0,2.0\" opacity=\"0.8\" /></g></svg>"
      ],
      "text/plain": [
       "<shapely.geometry.linestring.LineString at 0x1b927cb56d0>"
      ]
     },
     "execution_count": 48,
     "metadata": {},
     "output_type": "execute_result"
    }
   ],
   "source": [
    "# Then the last element is the road between the center of the lake and the house, using a linestring\n",
    "road = LineString ([(-1, 1), (3, 2)])\n",
    "print(road)\n",
    "road"
   ]
  },
  {
   "cell_type": "code",
   "execution_count": 49,
   "id": "1cfd885d",
   "metadata": {},
   "outputs": [
    {
     "name": "stdout",
     "output_type": "stream",
     "text": [
      "GEOMETRYCOLLECTION (MULTIPOLYGON (((-10 10, -10 -10, 10 -10, 10 10, -10 10), (-2.5 0, -2.5 2, 0.5 2, 0.5 0, -2.5 0))), POINT (3 2), LINESTRING (-1 1, 3 2))\n"
     ]
    },
    {
     "data": {
      "image/svg+xml": [
       "<svg xmlns=\"http://www.w3.org/2000/svg\" xmlns:xlink=\"http://www.w3.org/1999/xlink\" width=\"100.0\" height=\"100.0\" viewBox=\"-10.8 -10.8 21.6 21.6\" preserveAspectRatio=\"xMinYMin meet\"><g transform=\"matrix(1,0,0,-1,0,0.0)\"><g><g><path fill-rule=\"evenodd\" fill=\"#66cc99\" stroke=\"#555555\" stroke-width=\"0.43200000000000005\" opacity=\"0.6\" d=\"M -10.0,10.0 L -10.0,-10.0 L 10.0,-10.0 L 10.0,10.0 L -10.0,10.0 z M -2.5,0.0 L -2.5,2.0 L 0.5,2.0 L 0.5,0.0 L -2.5,0.0 z\" /></g><circle cx=\"3.0\" cy=\"2.0\" r=\"0.6480000000000001\" stroke=\"#555555\" stroke-width=\"0.21600000000000003\" fill=\"#66cc99\" opacity=\"0.6\" /><polyline fill=\"none\" stroke=\"#66cc99\" stroke-width=\"0.43200000000000005\" points=\"-1.0,1.0 3.0,2.0\" opacity=\"0.8\" /></g></g></svg>"
      ],
      "text/plain": [
       "<shapely.geometry.collection.GeometryCollection at 0x1b92932d250>"
      ]
     },
     "execution_count": 49,
     "metadata": {},
     "output_type": "execute_result"
    }
   ],
   "source": [
    "# Putting all the previous elements together into a geometry collection\n",
    "full = GeometryCollection([island_lake, house, road])\n",
    "print(full)\n",
    "full"
   ]
  },
  {
   "cell_type": "code",
   "execution_count": 76,
   "id": "64622858",
   "metadata": {},
   "outputs": [
    {
     "data": {
      "text/html": [
       "<div>\n",
       "<style scoped>\n",
       "    .dataframe tbody tr th:only-of-type {\n",
       "        vertical-align: middle;\n",
       "    }\n",
       "\n",
       "    .dataframe tbody tr th {\n",
       "        vertical-align: top;\n",
       "    }\n",
       "\n",
       "    .dataframe thead th {\n",
       "        text-align: right;\n",
       "    }\n",
       "</style>\n",
       "<table border=\"1\" class=\"dataframe\">\n",
       "  <thead>\n",
       "    <tr style=\"text-align: right;\">\n",
       "      <th></th>\n",
       "      <th>Shape</th>\n",
       "      <th>geometry</th>\n",
       "    </tr>\n",
       "  </thead>\n",
       "  <tbody>\n",
       "    <tr>\n",
       "      <th>0</th>\n",
       "      <td>island</td>\n",
       "      <td>LINESTRING (-10.00000 10.00000, -10.00000 -10....</td>\n",
       "    </tr>\n",
       "    <tr>\n",
       "      <th>1</th>\n",
       "      <td>lake</td>\n",
       "      <td>LINESTRING (-2.50000 0.00000, -2.50000 2.00000...</td>\n",
       "    </tr>\n",
       "    <tr>\n",
       "      <th>2</th>\n",
       "      <td>house</td>\n",
       "      <td>POINT (3.00000 2.00000)</td>\n",
       "    </tr>\n",
       "    <tr>\n",
       "      <th>3</th>\n",
       "      <td>road</td>\n",
       "      <td>LINESTRING (-1.00000 1.00000, 3.00000 2.00000)</td>\n",
       "    </tr>\n",
       "  </tbody>\n",
       "</table>\n",
       "</div>"
      ],
      "text/plain": [
       "    Shape                                           geometry\n",
       "0  island  LINESTRING (-10.00000 10.00000, -10.00000 -10....\n",
       "1    lake  LINESTRING (-2.50000 0.00000, -2.50000 2.00000...\n",
       "2   house                            POINT (3.00000 2.00000)\n",
       "3    road     LINESTRING (-1.00000 1.00000, 3.00000 2.00000)"
      ]
     },
     "execution_count": 76,
     "metadata": {},
     "output_type": "execute_result"
    }
   ],
   "source": [
    "# adding the previous elements to a geopandas dataframe, but changing the polygons to lines so we can visualize them in the same plot\n",
    "d = {'Shape': ['island', 'lake', 'house', 'road'], 'geometry': [\n",
    "    LineString([(-10, 10), (-10, -10), (10, -10), (10, 10), (-10, 10)]), \n",
    "    LineString([(-2.5, 0), (-2.5, 2), (0.5, 2), (0.5, 0), (-2.5, 0)]),\n",
    "    Point(3, 2), \n",
    "    LineString ([(-1, 1), (3, 2)])]}\n",
    "gdf = gpd.GeoDataFrame(d, crs=\"EPSG:4326\")\n",
    "gdf"
   ]
  },
  {
   "cell_type": "code",
   "execution_count": 77,
   "id": "5ac31fa9",
   "metadata": {},
   "outputs": [
    {
     "data": {
      "text/plain": [
       "<AxesSubplot:>"
      ]
     },
     "execution_count": 77,
     "metadata": {},
     "output_type": "execute_result"
    },
    {
     "data": {
      "image/png": "[encoded data removed]",
      "text/plain": [
       "<Figure size 640x480 with 1 Axes>"
      ]
     },
     "metadata": {},
     "output_type": "display_data"
    }
   ],
   "source": [
    "# Plotting all elements\n",
    "gdf.plot()"
   ]
  },
  {
   "cell_type": "code",
   "execution_count": null,
   "id": "856ad556",
   "metadata": {},
   "outputs": [],
   "source": []
  }
 ],
 "metadata": {
  "kernelspec": {
   "display_name": "Geospatial",
   "language": "python",
   "name": "geospatial"
  },
  "language_info": {
   "codemirror_mode": {
    "name": "ipython",
    "version": 3
   },
   "file_extension": ".py",
   "mimetype": "text/x-python",
   "name": "python",
   "nbconvert_exporter": "python",
   "pygments_lexer": "ipython3",
   "version": "3.9.13"
  }
 },
 "nbformat": 4,
 "nbformat_minor": 5
}
