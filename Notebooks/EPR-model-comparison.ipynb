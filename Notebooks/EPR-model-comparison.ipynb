{
 "cells": [
  {
   "cell_type": "markdown",
   "metadata": {
    "id": "XWdLTLxMkzyz"
   },
   "source": [
    "# **<font color=\"#ffb94f\">0.0 PREPARATION</font>**"
   ]
  },
  {
   "cell_type": "markdown",
   "metadata": {
    "id": "yF1SuMIplhSw"
   },
   "source": [
    "## **<font color=\"#84f745\">0.1 IMPORTS & NOTEBOOK SETUP</font>**"
   ]
  },
  {
   "cell_type": "code",
   "execution_count": null,
   "metadata": {
    "id": "3YjIpJ_haA5v"
   },
   "outputs": [],
   "source": [
    "# In case of running on Google Colab\n",
    "%%capture\n",
    "!apt-get install -qq curl g++ make\n",
    "!curl -L http://download.osgeo.org/libspatialindex/spatialindex-src-1.8.5.tar.gz | tar xz\n",
    "import os\n",
    "os.chdir('spatialindex-src-1.8.5')\n",
    "!./configure\n",
    "!make\n",
    "!make install\n",
    "!pip install rtree\n",
    "!ldconfig\n",
    "!pip install scikit-mobility\n",
    "\n",
    "!pip install geovoronoi\n",
    "# Specifying pandas' version to overcome issue with 'TrajDataFrame' object has no attribute '_crs' during preprocessing phase\n",
    "!pip install pandas==1.5.3"
   ]
  },
  {
   "cell_type": "code",
   "execution_count": null,
   "metadata": {
    "id": "c8748a93-b8d5-4909-98a0-ae2424f77bd7"
   },
   "outputs": [],
   "source": [
    "import numpy as np\n",
    "import matplotlib.pyplot as plt\n",
    "import seaborn as sns\n",
    "import pandas as pd\n",
    "import geopandas as gpd\n",
    "import random\n",
    "\n",
    "import skmob\n",
    "from skmob.tessellation import tilers\n",
    "from skmob.models.epr import DensityEPR, SpatialEPR, Ditras\n",
    "from skmob.models.markov_diary_generator import MarkovDiaryGenerator\n",
    "from skmob.preprocessing import filtering, compression, detection, clustering\n",
    "from skmob.measures.individual import jump_lengths, radius_of_gyration, uncorrelated_entropy, number_of_locations, number_of_visits, location_frequency\n",
    "from skmob.measures.collective import visits_per_location\n",
    "from skmob.utils.plot import *\n",
    "from skmob.data.load import load_dataset, list_datasets\n",
    "from shapely.geometry import MultiPolygon, Polygon, Point\n",
    "from shapely.ops import unary_union\n",
    "\n",
    "import sklearn\n",
    "from sklearn.metrics import mean_squared_error\n",
    "\n",
    "from scipy.stats import gaussian_kde, iqr\n",
    "from scipy.spatial import Voronoi,voronoi_plot_2d\n",
    "from geovoronoi import voronoi_regions_from_coords, points_to_coords"
   ]
  },
  {
   "cell_type": "code",
   "execution_count": null,
   "metadata": {
    "id": "vfA1M8Zuf1di"
   },
   "outputs": [],
   "source": [
    "# Setting up plot style\n",
    "sns.set_context(font_scale=2, rc={\"font.size\":10,\"axes.titlesize\":16,\"axes.labelsize\":14})\n",
    "sns.set_style(\"whitegrid\", {'grid.linestyle': '--', 'alpha': 0.25})\n",
    "sns.set_style({'font.family':'serif', 'font.serif':'Computer Modern'})"
   ]
  },
  {
   "cell_type": "code",
   "execution_count": null,
   "metadata": {
    "colab": {
     "base_uri": "https://localhost:8080/"
    },
    "id": "ipDm8kvtl6Cn",
    "outputId": "3b81376a-e91d-4502-9e94-5358911c4edf"
   },
   "outputs": [],
   "source": [
    "np.seterr(divide = 'ignore') "
   ]
  },
  {
   "cell_type": "markdown",
   "metadata": {
    "id": "AvYviRgQlrZy"
   },
   "source": [
    "## **<font color=\"#84f745\">0.2 FUNCTIONS</font>**"
   ]
  },
  {
   "cell_type": "code",
   "execution_count": null,
   "metadata": {
    "id": "4JYsusVtlztM"
   },
   "outputs": [],
   "source": [
    "# Function to obtain the distributions Mi, i in {1...6}\n",
    "def compute_measures(Traj):\n",
    "    m1 = jump_lengths(Traj, show_progress = False, merge=True)\n",
    "    m1 = [m for m in m1 if m >= 1]\n",
    "\n",
    "    m2 = list(radius_of_gyration(Traj, show_progress = False)['radius_of_gyration']) \n",
    "    m2 = [m for m in m2 if m >= 1]\n",
    "\n",
    "    m3 = list(uncorrelated_entropy(Traj, show_progress = False)['uncorrelated_entropy']) \n",
    "    m3 = [m for m in m3 if m > 0]\n",
    "\n",
    "    m4 = list(number_of_locations(Traj, show_progress = False)['number_of_locations']) \n",
    "    m4 = [m for m in m4 if m > 0]\n",
    "\n",
    "    m5 = list(visits_per_location(Traj)['n_visits'])\n",
    "    m5 = [m for m in m5 if m > 0]\n",
    "\n",
    "    m6 = location_frequency(Traj, as_ranks = True, show_progress = False)\n",
    "    m6 = [m for m in m6 if m > 0]\n",
    "\n",
    "    list_measures = [m1, m2, m3, m4, m5, m6]\n",
    "    list_min = []\n",
    "    list_max = []\n",
    "    list_avg = []\n",
    "    list_std = []\n",
    "\n",
    "    # Stats for previously computed measures\n",
    "    for m in list_measures:\n",
    "        list_min.append(round(min(m),4)) \n",
    "        list_max.append(round(max(m),4))\n",
    "        list_avg.append(round(np.mean(m),4))\n",
    "        list_std.append(round(np.std(m),4))\n",
    "\n",
    "    measures_df = pd.DataFrame(list(zip(list_min, list_max, list_avg, list_std)), columns = ['Min', 'Max', 'Avg', 'Std'], index = ['M1', 'M2', 'M3', 'M4', 'M5', 'M6'])\n",
    "    print(measures_df.T)\n",
    "\n",
    "    return list_measures"
   ]
  },
  {
   "cell_type": "code",
   "execution_count": null,
   "metadata": {
    "id": "w5M-R-UKlztN"
   },
   "outputs": [],
   "source": [
    "# Function to obtain distributions\n",
    "def get_kde(dict_measures):\n",
    "    dict_kde = {}\n",
    "    dict_x = {}\n",
    "    dict_y = {}\n",
    "\n",
    "    # Using Kernel Density Estimation with np.geomspace to get bins in the log scale\n",
    "    for model, measures in dict_measures.items():\n",
    "        dict_kde[model] = [gaussian_kde(measures[i]) for i in range(6)]\n",
    "        dict_x[model] = [np.geomspace(min(measures[i]), max(measures[i]), 10) for i in range(6)]\n",
    "        dict_y[model] = [dict_kde[model][i](dict_x[model][i]) for i in range(6)]\n",
    "\n",
    "    return dict_x, dict_y"
   ]
  },
  {
   "cell_type": "code",
   "execution_count": null,
   "metadata": {
    "id": "DtNOSi6DRst4"
   },
   "outputs": [],
   "source": [
    "# Function to build each model given an area and tessellation\n",
    "def build_model(area_tessellation, n_agents, n_individuals):\n",
    "    real_measures = dict_real_measures[area_tessellation]\n",
    "\n",
    "    # SEPR MODEL\n",
    "    print('Building S-EPR model for {}'.format(dict_area_tess_names[area_tessellation]))\n",
    "    sepr_model = SpatialEPR()\n",
    "    sepr_tdf = sepr_model.generate(start_date = start_time, \n",
    "                                   end_date = end_time, \n",
    "                                   spatial_tessellation = dict_tessellations[area_tessellation], \n",
    "                                   n_agents = n_agents,\n",
    "                                   show_progress = True, \n",
    "                                   random_state = 42)\n",
    "    print('\\nS-EPR measures:')\n",
    "    sepr_measures = compute_measures(sepr_tdf)\n",
    "\n",
    "    # DEPR MODEL\n",
    "    print('\\nBuilding D-EPR model for {}'.format(dict_area_tess_names[area_tessellation]))\n",
    "    depr_model = DensityEPR()\n",
    "    depr_tdf = depr_model.generate(start_date = start_time, \n",
    "                                   end_date = end_time, \n",
    "                                   spatial_tessellation = dict_weighted_tess[area_tessellation], \n",
    "                                   relevance_column = 'relevance', \n",
    "                                   n_agents = n_agents,\n",
    "                                   show_progress = True, \n",
    "                                   random_state = 42)   \n",
    "    print('\\nD-EPR measures:')\n",
    "    depr_measures = compute_measures(depr_tdf)\n",
    "\n",
    "    # DITRAS MODEL\n",
    "    print('\\nBuilding Ditras model for {}'.format(dict_area_tess_names[area_tessellation]))\n",
    "    ctdf = compression.compress(dict_real_tdfs[area_tessellation])\n",
    "    stdf = detection.stay_locations(ctdf)\n",
    "    cstdf = clustering.cluster(stdf)\n",
    "\n",
    "    mdg = MarkovDiaryGenerator()\n",
    "    mdg.fit(cstdf, number_individuals, lid = 'cluster')\n",
    "\n",
    "    ditras_model = Ditras(mdg)\n",
    "\n",
    "    ditras_tdf = ditras_model.generate(start_date = start_time, \n",
    "                                       end_date = end_time, \n",
    "                                       spatial_tessellation = dict_weighted_tess[area_tessellation], \n",
    "                                       relevance_column = 'relevance', \n",
    "                                       n_agents = n_agents,\n",
    "                                       od_matrix = None,\n",
    "                                       show_progress = True, \n",
    "                                       random_state = 42)\n",
    "    print('\\nDitras measures:')\n",
    "    ditras_measures = compute_measures(ditras_tdf)\n",
    "\n",
    "    return real_measures, sepr_measures, depr_measures, ditras_measures"
   ]
  },
  {
   "cell_type": "code",
   "execution_count": null,
   "metadata": {
    "id": "3NN04lnyRpc5"
   },
   "outputs": [],
   "source": [
    "# Building models and plotting the results  \n",
    "def plot_comparison(area_tessellation, n_agents, show_real):\n",
    "    if area_tessellation in dict_area_tess_names.keys():\n",
    "        real_measures, sepr_measures, depr_measures, ditras_measures = build_model(area_tessellation, n_agents, n_individuals = number_individuals)\n",
    "    else:\n",
    "        return print(\"Please input a valid area and tessellation pair, e.g. 'a1_t1' to work on NY State with squared tessellation\")\n",
    "\n",
    "    list_measures = [\"Travel Distance (Jump Length)\", \n",
    "                     \"Radius of Gyration\", \n",
    "                     \"Uncorrelated Entropy\", \n",
    "                     \"Distinct visited Locations\", \n",
    "                     \"Visits per Location\", \n",
    "                     \"Location Frequency\"]\n",
    "    list_labels = [\"Δr\", \"r_g\", \"S^{unc}\", \"N_u\", \"V_l\", \"L_i\"]\n",
    "\n",
    "    dict_models_measures = {\"real\": real_measures, \"sepr\": sepr_measures, \"depr\": depr_measures, \"ditras\": ditras_measures}\n",
    "    \n",
    "    # Getting x and y for each distribution\n",
    "    dict_x, dict_y = get_kde(dict_models_measures)\n",
    "    x_real, x_sepr, x_depr, x_ditras = [dict_x[m] for m in dict_models_measures.keys()]\n",
    "    y_real, y_sepr, y_depr, y_ditras = [dict_y[m] for m in dict_models_measures.keys()]\n",
    "\n",
    "    print('\\n---------------------------------------- MEASURES DISTRIBUTIONS PLOT ----------------------------------------\\n')\n",
    "    fig, ax = plt.subplots(nrows=2, ncols=3, figsize=(18, 9))\n",
    "\n",
    "    k = 0\n",
    "    for i in range(2):\n",
    "        for j in range(3):\n",
    "            # Calculating RMSE for each possible pair of the distributions\n",
    "            rmse_sepr_depr = round(mean_squared_error(y_sepr[k], y_depr[k], squared = False),4)\n",
    "            rmse_sepr_ditras = round(mean_squared_error(y_sepr[k], y_ditras[k], squared = False),4)\n",
    "            rmse_depr_ditras = round(mean_squared_error(y_depr[k], y_ditras[k], squared = False),4)\n",
    "            rmse_real_sepr = round(mean_squared_error(y_real[k], y_sepr[k], squared = False),4)\n",
    "            rmse_real_depr = round(mean_squared_error(y_real[k], y_depr[k], squared = False),4)\n",
    "            rmse_real_ditras = round(mean_squared_error(y_real[k], y_ditras[k], squared = False),4)\n",
    "\n",
    "            ax[i,j].plot(x_sepr[k], y_sepr[k], marker = 's', linestyle = 'dotted', linewidth = 2, markersize = 5, label = 'S-EPR')\n",
    "            ax[i,j].plot(x_depr[k], y_depr[k], marker = 'o', linestyle = 'dotted', linewidth = 2, markersize = 5, label = 'D-EPR')\n",
    "            ax[i,j].plot(x_ditras[k], y_ditras[k], marker = '^', linestyle = 'dotted', linewidth = 2, markersize = 5, label = 'Ditras')\n",
    "            ax[i,j].loglog()\n",
    "            ax[i,j].set(title = list_measures[k])\n",
    "            ax[i,j].set(ylabel = \"$P({})$\".format(list_labels[k]))\n",
    "            ax[i,j].set(xlabel = \"${}$\".format(list_labels[k]))\n",
    "            \n",
    "            # Style for text box showing RMSE inside plot\n",
    "            props = dict(boxstyle = 'round', facecolor = 'wheat', alpha = 0.3)\n",
    "\n",
    "            # Showing the RMSE results, depending if the real measures are taken into account\n",
    "            if show_real == True: \n",
    "                ax[i,j].plot(x_real[k], y_real[k], marker = 'D', linestyle = 'dotted', linewidth = 2, markersize = 5, color = 'black', label = 'Real')\n",
    "                ax[i,j].text(-.6, .3, fontsize = 12, transform = ax[i,j].transAxes, bbox = props, s = ('RMSE M{} ${}$\\n'\n",
    "                                                                                                       '\\n'\n",
    "                                                                                                       'R/S:{}\\n'\n",
    "                                                                                                       'R/D:{}\\n'\n",
    "                                                                                                       'R/Di:{}\\n'\n",
    "                                                                                                       '\\n'\n",
    "                                                                                                       'S/D:{}\\n'\n",
    "                                                                                                       'S/Di:{}\\n'\n",
    "                                                                                                       'D/Di:{}').format(str(k+1),list_labels[k], \n",
    "                                                                                                                         rmse_real_sepr, \n",
    "                                                                                                                         rmse_real_depr, \n",
    "                                                                                                                         rmse_real_ditras,\n",
    "                                                                                                                         rmse_sepr_depr,\n",
    "                                                                                                                         rmse_sepr_ditras,\n",
    "                                                                                                                         rmse_depr_ditras)) \n",
    "            else:\n",
    "                ax[i,j].text(-.6, .4, fontsize = 12, transform = ax[i,j].transAxes, bbox = props, s = ('RMSE M{} ${}$\\n''\\nS/D:{}\\n''S/Di:{}\\n''D/Di:{}').format(str(k+1),\n",
    "                                                                                                                                                                 list_labels[k],\n",
    "                                                                                                                                                                 rmse_sepr_depr,\n",
    "                                                                                                                                                                 rmse_sepr_ditras,\n",
    "                                                                                                                                                                 rmse_depr_ditras)) \n",
    "            ax[i,j].legend()\n",
    "            fig.tight_layout()\n",
    "            k += 1"
   ]
  },
  {
   "cell_type": "code",
   "execution_count": null,
   "metadata": {
    "id": "qjvco4FspUJO"
   },
   "outputs": [],
   "source": [
    "# Function to produce random points inside a polygon\n",
    "def polygon_random_points(poly, num_points):\n",
    "    min_x, min_y, max_x, max_y = poly.bounds\n",
    "    points = []\n",
    "    while len(points) < num_points:\n",
    "        random_point = Point([random.uniform(min_x, max_x), random.uniform(min_y, max_y)])\n",
    "        if (random_point.within(poly)):\n",
    "            points.append([random_point.x, random_point.y])\n",
    "    return np.array(points)\n",
    "\n",
    "# Function to turn to geodataframe, used in get_voronoi_tessellation\n",
    "def to_GeoDataFrame(region_polys):\n",
    "    name=[]\n",
    "    for i in range(1, len(region_polys) + 1):\n",
    "        name.append('cell ' + str(i))\n",
    "    gdf = gpd.GeoDataFrame(columns=['name','geometry'], crs={'init': 'epsg:4326'})\n",
    "    gdf['name'] = name\n",
    "    for index, row in gdf.iterrows():\n",
    "        gdf.at[index, 'geometry'] = region_polys[index]\n",
    "    return gdf\n",
    "\n",
    "# Function to obtain voronoi tessellation from a set of points inside a polygon\n",
    "def get_voronoi_tessellation(poly_ch, points):\n",
    "    vor = Voronoi(points, qhull_options='Qbb Qc Qx')\n",
    "    region_polys, region_pts = voronoi_regions_from_coords(points, poly_ch)\n",
    "    tess_voronoi = to_GeoDataFrame(region_polys)\n",
    "    return tess_voronoi"
   ]
  },
  {
   "cell_type": "markdown",
   "metadata": {
    "id": "zvoTjEwMlJAw"
   },
   "source": [
    "# **<font color=\"#ffb94f\">1.0 PREPARING AREAS & TESSELLATIONS</font>**"
   ]
  },
  {
   "cell_type": "markdown",
   "metadata": {
    "id": "XZ_uFCcKgBSF"
   },
   "source": [
    "The geographical areas to be considered are:\n",
    "\n",
    "\n",
    "\n",
    "1.   New York State\n",
    "2.   San Francisco, California\n",
    "3.   Austin, Texas\n",
    "4.   Mexico City\n",
    "\n"
   ]
  },
  {
   "cell_type": "markdown",
   "metadata": {
    "id": "tLqLO9uWh-95"
   },
   "source": [
    "The tessellations to be used are:\n",
    "\n",
    "1.   Squared\n",
    "2.   Hexagonal\n",
    "3.   Official\n",
    "4.   Voronoi\n",
    "\n",
    "Paired with the previously stated geographical areas, the possible combination of areas and tessellations can be identified by the form \"a{}_t{}\", with the blank spaces representing the number of area and tessellation respectively. For example, the hexagonal tessellation of Austin Texas shall be identified by \"a3_t2\". This form will be used throught the entirety of this notebook.\n",
    "\n"
   ]
  },
  {
   "cell_type": "code",
   "execution_count": null,
   "metadata": {
    "id": "erdqVPkq63bA"
   },
   "outputs": [],
   "source": [
    "# Official administrative divisions to use as tessellations for each geographical area\n",
    "\n",
    "# New York Counties 2011, provided within scikit mobility\n",
    "url_area1 = 'https://raw.githubusercontent.com/scikit-mobility/tutorials/master/mda_masterbd2020/data/NY_counties_2011.geojson'\n",
    "# San Francisco Neighborhoods Boundaries https://data.sfgov.org/Geographic-Locations-and-Boundaries/Analysis-Neighborhoods/p5b7-5n3h\n",
    "url_area2 = 'https://raw.githubusercontent.com/Bruno-Limon/EPR-model-comparison/main/Data/georef-us-SF_boundaries.geojson'\n",
    "# Austin Open Data Texas - https://data.austintexas.gov/Locations-and-Maps/Counties/9pr5-nzce\n",
    "url_area3 = 'https://raw.githubusercontent.com/Bruno-Limon/EPR-model-comparison/main/Data/georef-us-austin-counties.geojson'\n",
    "# División política municipal/Demarcación territorial - Vintage/Millésimé - Mexico https://data.opendatasoft.com/\n",
    "url_area4 = 'https://raw.githubusercontent.com/Bruno-Limon/EPR-model-comparison/main/Data/alcaldias_cdmx.zip'\n",
    "\n",
    "# To obtain the basic shape and outline bounds for each area, some preprocessing steps were needed\n",
    "# In the case of area 1 and 2 they were obtained using osmnx library and then imported to https://mapshaper.org/ to fix self-intersections\n",
    "# For area 3 and 4 a unary union of the administrative division was necessary\n",
    "\n",
    "area1_merged_url = 'https://raw.githubusercontent.com/Bruno-Limon/EPR-model-comparison/main/Data/georef-ny-flat.geojson'\n",
    "area2_merged_url = 'https://raw.githubusercontent.com/Bruno-Limon/EPR-model-comparison/main/Data/georef-us-SF_flat.geojson'\n",
    "\n",
    "area1_merged = gpd.read_file(area1_merged_url)\n",
    "area2_merged = gpd.read_file(area2_merged_url)\n",
    "area3_merged = gpd.read_file(url_area3) \n",
    "area3_merged = gpd.GeoSeries(unary_union(area3_merged['geometry']))\n",
    "area4_merged = gpd.read_file(url_area4) \n",
    "area4_merged = gpd.GeoSeries(unary_union(area4_merged['geometry']))"
   ]
  },
  {
   "cell_type": "code",
   "execution_count": null,
   "metadata": {
    "id": "6AINQL4am5vZ"
   },
   "outputs": [],
   "source": [
    "# Creating squared, hexagonal and official tessellation geodataframes\n",
    "\n",
    "%%capture\n",
    "list_tessellations = ['squared', 'h3_tessellation', 'official']\n",
    "list_official_tessellations = [url_area1, url_area2, url_area3, url_area4]\n",
    "list_area_meter_squared = [40000, 1500, 20000, 6000]\n",
    "list_area_meter_h3 = [20000, 500, 10000, 3000]\n",
    "\n",
    "dict_tessellations = {}\n",
    "\n",
    "for i, area in enumerate(list_official_tessellations, start = 1):\n",
    "    for j, tessellation in enumerate(list_tessellations, start = 1):\n",
    "        # Using the official tessellations as base shape\n",
    "        base_gpd = gpd.read_file(area)\n",
    "        base_gpd = base_gpd.explode()\n",
    "        if j == 1:\n",
    "            dict_tessellations['a{}_t{}'.format(i,j)] = tilers.tiler.get(tessellation, base_shape = base_gpd, meters = list_area_meter_squared[i-1])\n",
    "            # Exploding geometries to end up with single polygons instead of multipolygons, which have issues later on with the skmob.tdf.mapping function\n",
    "            # dict_tessellations['a{}_t{}'.format(i,j)] = dict_tessellations['a{}_t{}'.format(i,j)].explode()\n",
    "        elif j == 2:\n",
    "            dict_tessellations['a{}_t{}'.format(i,j)] = tilers.tiler.get(tessellation, base_shape = dict_tessellations['a{}_t{}'.format(i,j-1)], meters = list_area_meter_h3[i-1])\n",
    "        elif j == 3:\n",
    "            dict_tessellations['a{}_t{}'.format(i,j)] = gpd.read_file(list_official_tessellations[i-1])\n",
    "            dict_tessellations['a{}_t{}'.format(i,j)] = dict_tessellations['a{}_t{}'.format(i,j)].explode()\n",
    "            # Adding a tile_ID column, necesarry for the mapping function\n",
    "            dict_tessellations['a{}_t{}'.format(i,j)].insert(0, 'tile_ID', range(0, len(dict_tessellations['a{}_t{}'.format(i,j)])))\n",
    "\n",
    "        dict_tessellations['a{}_t{}'.format(i,j)] = dict_tessellations['a{}_t{}'.format(i,j)].set_crs({'init': 'epsg:4326'}, allow_override=True)"
   ]
  },
  {
   "cell_type": "markdown",
   "metadata": {
    "id": "UN26BA8iLtLt"
   },
   "source": [
    "Voronoi Tessellations"
   ]
  },
  {
   "cell_type": "code",
   "execution_count": null,
   "metadata": {
    "id": "Wz95V3Iu9GuM"
   },
   "outputs": [],
   "source": [
    "# Creating polygon of city boundaries for each area using shapely's function unary_union\n",
    "area1_boundary = unary_union(area1_merged.geometry)\n",
    "area2_boundary = unary_union(area2_merged.geometry)\n",
    "area3_boundary = unary_union(area3_merged.geometry)\n",
    "area4_boundary = unary_union(area4_merged.geometry)"
   ]
  },
  {
   "cell_type": "code",
   "execution_count": null,
   "metadata": {
    "id": "b7hMrqcxa5p6"
   },
   "outputs": [],
   "source": [
    "# Points to build voronoi tessellation for area 1\n",
    "# Consisting of DMV office locaitons in NY state, obtained from https://data.ny.gov/Transportation/Department-of-Motor-Vehicle-DMV-Office-Locations/9upz-c7xg\n",
    "url_points1 = 'https://raw.githubusercontent.com/Bruno-Limon/EPR-model-comparison/main/Data/Points-NY.csv'\n",
    "points1_df = pd.read_csv(url_points1)\n",
    "to_drop = ['Office Name','Office Type','Public Phone Number','Public Phone Extension','Street Address Line 1','Street Address Line 2','Monday Beginning Hours','Monday Ending Hours',\n",
    "            'Tuesday Beginning Hours','Tuesday Beginning Hours','Tuesday Ending Hours','Wednesday Beginning Hours','Wednesday Ending Hours','Thursday Beginning Hours','Thursday Ending Hours',\n",
    "            'Friday Beginning Hours','Friday Ending Hours','Saturday Beginning Hours','Saturday Ending Hours']\n",
    "points1_df.drop(to_drop, axis = 1, inplace = True)\n",
    "points1_df = points1_df.dropna()\n",
    "\n",
    "list_points = points1_df['Georeference'].tolist()\n",
    "lat = []\n",
    "lng = []\n",
    "voronoi_points1 = []\n",
    "for point in list_points:\n",
    "    x = point.replace('POINT (','')\n",
    "    x = x.replace(')','')\n",
    "    latitude = x.split()[1]\n",
    "    longitude = x.split()[0]\n",
    "    lat.append(latitude)\n",
    "    lng.append(longitude)\n",
    "\n",
    "points1_df['lat'] = lat\n",
    "points1_df['lng'] = lng\n",
    "points1_df.drop('Georeference', axis = 1, inplace = True)\n",
    "points1_df\n",
    "points1_gdf = gpd.GeoDataFrame(points1_df, geometry=gpd.points_from_xy(points1_df.lng, points1_df.lat))\n",
    "points1_gdf.crs = \"EPSG:4326\"\n",
    "\n",
    "for lat, lng in zip(lat, lng):\n",
    "    voronoi_points1.append([lng, lat])\n",
    "voronoi_points1 = np.array(voronoi_points1)"
   ]
  },
  {
   "cell_type": "code",
   "execution_count": null,
   "metadata": {
    "id": "a__tf_spyDZX"
   },
   "outputs": [],
   "source": [
    "# Points to build voronoi tessellation for area 2\n",
    "# The dataset to use is obtained from https://data.sfgov.org/Geographic-Locations-and-Boundaries/ and represents healthcare facilities in san francisco\n",
    "url_points2 = 'https://raw.githubusercontent.com/Bruno-Limon/EPR-model-comparison/main/Data/Points-SF.csv'\n",
    "points2_df = pd.read_csv(url_points2)\n",
    "to_drop = ['OSHPD_ID','Facility Name','Facility Type','Services','Neighborhoods','SF Find Neighborhoods','Current Police Districts','Current Supervisor Districts','Analysis Neighborhoods']\n",
    "points2_df.drop(to_drop, axis = 1, inplace = True)\n",
    "\n",
    "list_points = points2_df['point'].tolist()\n",
    "lat = []\n",
    "lng = []\n",
    "voronoi_points2 = []\n",
    "for point in list_points:\n",
    "    x = point.replace('POINT (','')\n",
    "    x = x.replace(')','')\n",
    "    latitude = x.split()[1]\n",
    "    longitude = x.split()[0]\n",
    "    lat.append(latitude)\n",
    "    lng.append(longitude)\n",
    "\n",
    "points2_df['lat'] = lat\n",
    "points2_df['lng'] = lng\n",
    "points2_df.drop('point', axis = 1, inplace = True)\n",
    "points2_df\n",
    "points2_gdf = gpd.GeoDataFrame(points2_df, geometry=gpd.points_from_xy(points2_df.lng, points2_df.lat))\n",
    "points2_gdf.crs = \"EPSG:4326\"\n",
    "\n",
    "for lat, lng in zip(lat, lng):\n",
    "    voronoi_points2.append([lng, lat])\n",
    "voronoi_points2 = np.array(voronoi_points2)"
   ]
  },
  {
   "cell_type": "code",
   "execution_count": null,
   "metadata": {
    "id": "C-T8mBVvnE-5"
   },
   "outputs": [],
   "source": [
    "# Points to build voronoi tessellation for area 3\n",
    "# In the case of area 3, a random approach to produce the points is used to see how it differs from actual points\n",
    "voronoi_points3 = polygon_random_points(area3_boundary, 15)\n",
    "points3_gdf = gpd.GeoDataFrame(geometry = gpd.points_from_xy(voronoi_points3[:,0], voronoi_points3[:,1]))"
   ]
  },
  {
   "cell_type": "code",
   "execution_count": null,
   "metadata": {
    "id": "EdxcEwhgnE7X"
   },
   "outputs": [],
   "source": [
    "# Points to build voronoi tessellation for area 4\n",
    "# The dataset to use is obtained from https://datos.cdmx.gob.mx/dataset/hospitales-y-centros-de-salud and represents healthcare facilities in mexico city\n",
    "url_points4 = 'https://raw.githubusercontent.com/Bruno-Limon/EPR-model-comparison/main/Data/Points-MX.csv'\n",
    "points4_df = pd.read_csv(url_points4)\n",
    "to_drop = ['direccion','colonia','alcaldia','titular','tel']\n",
    "points4_df.drop(to_drop, axis = 1, inplace = True)\n",
    "\n",
    "points4_gdf = gpd.GeoDataFrame(points4_df, geometry=gpd.points_from_xy(points4_df.longitud, points4_df.latitud))\n",
    "points4_gdf.crs = \"EPSG:4326\"\n",
    "\n",
    "voronoi_points4 = []\n",
    "for lat, lng in zip(points4_df.latitud.to_list(), points4_df.longitud.to_list()):\n",
    "    voronoi_points4.append([lng, lat])\n",
    "voronoi_points4 = np.array(voronoi_points4)"
   ]
  },
  {
   "cell_type": "code",
   "execution_count": null,
   "metadata": {
    "id": "W8kEk8tJdw1o"
   },
   "outputs": [],
   "source": [
    "# Producing Voronoi tessellations\n",
    "%%capture\n",
    "list_boundaries = [area1_boundary, area2_boundary, area3_boundary, area4_boundary]\n",
    "list_voronoi_points = [voronoi_points1, voronoi_points2, voronoi_points3, voronoi_points4]\n",
    "\n",
    "for i in range(1,len(list_official_tessellations)+1):\n",
    "        dict_tessellations['a{}_t4'.format(i)] = get_voronoi_tessellation(list_boundaries[i-1], list_voronoi_points[i-1])\n",
    "        dict_tessellations['a{}_t4'.format(i)] = dict_tessellations['a{}_t4'.format(i)].explode()\n",
    "        dict_tessellations['a{}_t4'.format(i)]['tile_ID'] = [str(j) for j in range(1, len(dict_tessellations['a{}_t4'.format(i)])+1)]\n",
    "        dict_tessellations['a{}_t4'.format(i)] = dict_tessellations['a{}_t4'.format(i)].set_crs({'init': 'epsg:4326'}, allow_override=True)"
   ]
  },
  {
   "cell_type": "code",
   "execution_count": null,
   "metadata": {
    "colab": {
     "base_uri": "https://localhost:8080/"
    },
    "id": "OnhD-3ILXUAC",
    "outputId": "79a28e82-48b0-4331-a4c5-7ce3d794b967"
   },
   "outputs": [],
   "source": [
    "# Looking at number of tiles in each tessellation\n",
    "for i in range(1,len(list_official_tessellations)+1):\n",
    "    for j in range(1,len(list_official_tessellations)+1):\n",
    "        print('Tiles in tessellation a{}_t{}: {}'.format(i, j, len(dict_tessellations['a{}_t{}'.format(i, j)])))   \n",
    "        if j == 4 and i != 4: print('') "
   ]
  },
  {
   "cell_type": "markdown",
   "metadata": {
    "id": "YyXwjPRzMAmg"
   },
   "source": [
    "Visualizing tessellations"
   ]
  },
  {
   "cell_type": "code",
   "execution_count": null,
   "metadata": {
    "colab": {
     "base_uri": "https://localhost:8080/",
     "height": 479
    },
    "id": "taRKBl2AGzNN",
    "outputId": "16d802c6-c289-4b2b-c041-a7a91271156a"
   },
   "outputs": [],
   "source": [
    "background_color = 'gray'\n",
    "tess_color = \"tab20b\"\n",
    "\n",
    "fig, ax = plt.subplots(1,4, figsize=(32, 6)) \n",
    "fig.suptitle('Basic shapes of geographical areas', fontsize = 28)\n",
    "np.vectorize(lambda ax:ax.axis('off'))(ax)\n",
    "\n",
    "area1_merged.plot(ax = ax[0], color = background_color)\n",
    "area2_merged.plot(ax = ax[1], color = background_color)\n",
    "area3_merged.plot(ax = ax[2], color = background_color)\n",
    "area4_merged.plot(ax = ax[3], color = background_color)"
   ]
  },
  {
   "cell_type": "code",
   "execution_count": null,
   "metadata": {
    "colab": {
     "base_uri": "https://localhost:8080/",
     "height": 480
    },
    "id": "_SUi0TvF7UhE",
    "outputId": "aa3dbe0f-8c75-4e2a-c251-a806d3fea73f"
   },
   "outputs": [],
   "source": [
    "fig, ax = plt.subplots(1,4, figsize=(32, 6)) \n",
    "fig.suptitle('Squared tessellations', fontsize = 28)\n",
    "np.vectorize(lambda ax:ax.axis('off'))(ax)\n",
    "\n",
    "area1_merged.plot(ax = ax[0], color = background_color)\n",
    "area2_merged.plot(ax = ax[1], color = background_color)\n",
    "area3_merged.plot(ax = ax[2], color = background_color)\n",
    "area4_merged.plot(ax = ax[3], color = background_color)\n",
    "\n",
    "dict_tessellations['a1_t1'].plot(ax = ax[0], cmap = tess_color, alpha = .5)\n",
    "dict_tessellations['a2_t1'].plot(ax = ax[1], cmap = tess_color, alpha = .5)\n",
    "dict_tessellations['a3_t1'].plot(ax = ax[2], cmap = tess_color, alpha = .5)\n",
    "dict_tessellations['a4_t1'].plot(ax = ax[3], cmap = tess_color, alpha = .5)"
   ]
  },
  {
   "cell_type": "code",
   "execution_count": null,
   "metadata": {
    "colab": {
     "base_uri": "https://localhost:8080/",
     "height": 478
    },
    "id": "pbI3RksKAx3j",
    "outputId": "7320c093-b923-4ff9-fd14-27af907a6efe"
   },
   "outputs": [],
   "source": [
    "fig, ax = plt.subplots(1,4, figsize=(32, 6)) \n",
    "fig.suptitle('Hexagonal tessellations', fontsize = 28)\n",
    "np.vectorize(lambda ax:ax.axis('off'))(ax)\n",
    "\n",
    "area1_merged.plot(ax = ax[0], color = background_color)\n",
    "area2_merged.plot(ax = ax[1], color = background_color)\n",
    "area3_merged.plot(ax = ax[2], color = background_color)\n",
    "area4_merged.plot(ax = ax[3], color = background_color)\n",
    "\n",
    "dict_tessellations['a1_t2'].plot(ax = ax[0], cmap = tess_color, alpha = .5)\n",
    "dict_tessellations['a2_t2'].plot(ax = ax[1], cmap = tess_color, alpha = .5)\n",
    "dict_tessellations['a3_t2'].plot(ax = ax[2], cmap = tess_color, alpha = .5)\n",
    "dict_tessellations['a4_t2'].plot(ax = ax[3], cmap = tess_color, alpha = .5)"
   ]
  },
  {
   "cell_type": "code",
   "execution_count": null,
   "metadata": {
    "colab": {
     "base_uri": "https://localhost:8080/",
     "height": 387
    },
    "id": "_qP6ir1MFZfu",
    "outputId": "3c6a920a-d6ad-4262-a192-965b8dc2dda0"
   },
   "outputs": [],
   "source": [
    "fig, ax = plt.subplots(1,4, figsize=(32, 6)) \n",
    "fig.suptitle('Official tessellations', fontsize = 28)\n",
    "np.vectorize(lambda ax:ax.axis('off'))(ax)\n",
    "\n",
    "dict_tessellations['a1_t3'].plot(ax = ax[0], cmap = tess_color)\n",
    "dict_tessellations['a2_t3'].plot(ax = ax[1], cmap = tess_color)\n",
    "dict_tessellations['a3_t3'].plot(ax = ax[2], cmap = tess_color)\n",
    "dict_tessellations['a4_t3'].plot(ax = ax[3], cmap = tess_color)"
   ]
  },
  {
   "cell_type": "code",
   "execution_count": null,
   "metadata": {
    "colab": {
     "base_uri": "https://localhost:8080/",
     "height": 387
    },
    "id": "7G3PbqWKkUQe",
    "outputId": "b8f2e3eb-e32a-47c9-ff93-8c2b02be1ee5"
   },
   "outputs": [],
   "source": [
    "fig, ax = plt.subplots(1,4, figsize=(32, 6)) \n",
    "fig.suptitle('Voronoi tessellations', fontsize = 28)\n",
    "np.vectorize(lambda ax:ax.axis('off'))(ax)\n",
    "\n",
    "vor_point_color = 'white'\n",
    "markersize = 10\n",
    "\n",
    "dict_tessellations['a1_t4'].plot(ax = ax[0], cmap = tess_color)\n",
    "dict_tessellations['a2_t4'].plot(ax = ax[1], cmap = tess_color)\n",
    "dict_tessellations['a3_t4'].plot(ax = ax[2], cmap = tess_color)\n",
    "dict_tessellations['a4_t4'].plot(ax = ax[3], cmap = tess_color)\n",
    "\n",
    "points1_gdf.plot(ax = ax[0], color = vor_point_color, markersize = markersize)\n",
    "points2_gdf.plot(ax = ax[1], color = vor_point_color, markersize = markersize)\n",
    "points3_gdf.plot(ax = ax[2], color = vor_point_color, markersize = markersize)\n",
    "points4_gdf.plot(ax = ax[3], color = vor_point_color, markersize = markersize)"
   ]
  },
  {
   "cell_type": "markdown",
   "metadata": {
    "id": "0LZ3w4aYCTr6"
   },
   "source": [
    "Creating TDFs for each area\n",
    "\n",
    "Using the following mobility traces datasets:\n",
    "\n",
    "1. Brightkite check-ins\n",
    "2. San Francisco Taxicab traces\n",
    "3. Gowalla check-ins\n",
    "4. Mexico City Taxicab traces"
   ]
  },
  {
   "cell_type": "code",
   "execution_count": null,
   "metadata": {
    "colab": {
     "base_uri": "https://localhost:8080/",
     "height": 242
    },
    "id": "RnTj0vokkvA4",
    "outputId": "d80e0e24-7080-41e5-f177-98adbc7c8bf4"
   },
   "outputs": [],
   "source": [
    "# Creating trajectory dataframe for Area 1 - New York State\n",
    "# Trajectories obtained from brightkite checkins dataset\n",
    "url = \"https://snap.stanford.edu/data/loc-brightkite_totalCheckins.txt.gz\"\n",
    "area1_df = pd.read_csv(url, sep='\\t', header=0, nrows = 1000000, names=['user', 'check-in_time', \"latitude\", \"longitude\", \"location id\"])\n",
    "area1_tdf = skmob.TrajDataFrame(area1_df, latitude='latitude', longitude='longitude', datetime='check-in_time', user_id='user')\n",
    "print(\"Users: \", len(area1_tdf.uid.unique()))\n",
    "print('Records: ', len(area1_tdf)) \n",
    "area1_tdf.head()"
   ]
  },
  {
   "cell_type": "code",
   "execution_count": null,
   "metadata": {
    "colab": {
     "base_uri": "https://localhost:8080/",
     "height": 968
    },
    "id": "-qPxoGCyRIbR",
    "outputId": "cc67ae97-ae9a-4f96-d856-a0338efd21fc"
   },
   "outputs": [],
   "source": [
    "# Visualizing trajectories flowing through Area 1\n",
    "map_f = folium.Map(location=[42.631610, -73.935242], zoom_start=7, tiles='cartodbdark_matter')\n",
    "\n",
    "# Outlining official tessellation\n",
    "for _, row in dict_tessellations['a1_t3'].iterrows():\n",
    "    sim_geo = gpd.GeoSeries(row['geometry']).simplify(tolerance=0.001)\n",
    "    geo_j = sim_geo.to_json()\n",
    "    geo_j = folium.GeoJson(data=geo_j, style_function = lambda x: {'fillColor': '#98ff69', 'color': 'white'})\n",
    "    geo_j.add_to(map_f)\n",
    "    \n",
    "area1_tdf.plot_trajectory(map_f = map_f, max_users = 20, weight = 1, max_points = None, opacity=0.9, start_end_markers = False)"
   ]
  },
  {
   "cell_type": "code",
   "execution_count": null,
   "metadata": {
    "colab": {
     "base_uri": "https://localhost:8080/",
     "height": 242
    },
    "id": "GKZNmJeMd9EV",
    "outputId": "26090aaf-7d46-4367-b682-956791818924"
   },
   "outputs": [],
   "source": [
    "# Creating trajectory dataframe for Area 2 -  San Francisco\n",
    "# Trajectories obtained from taxicab dataset, retrieved from Crawdad repository (http://crawdad.org/epfl/mobility/20090224/index.html), using a sample of 6 taxis\n",
    "url = 'https://raw.githubusercontent.com/Bruno-Limon/EPR-model-comparison/main/Data/new_abboip.txt'\n",
    "url1 = 'https://raw.githubusercontent.com/Bruno-Limon/EPR-model-comparison/main/Data/new_effneomi.txt'\n",
    "url2 = 'https://raw.githubusercontent.com/Bruno-Limon/EPR-model-comparison/main/Data/new_iawxben.txt'\n",
    "url3 = 'https://raw.githubusercontent.com/Bruno-Limon/EPR-model-comparison/main/Data/new_ofikco.txt'\n",
    "url4 = 'https://raw.githubusercontent.com/Bruno-Limon/EPR-model-comparison/main/Data/new_udwadla.txt'\n",
    "url5 = 'https://raw.githubusercontent.com/Bruno-Limon/EPR-model-comparison/main/Data/new_upthin.txt'\n",
    "list_url = [url, url1, url2, url3, url4, url5]\n",
    "\n",
    "dataframes = []\n",
    "for i, url in enumerate(list_url):\n",
    "    df = pd.read_csv(url, sep=' ', names=['lat', 'lng', \"occupancy\", \"datetime\"])\n",
    "    df['datetime'] = pd.to_datetime(df['datetime'], unit='s')\n",
    "    df['uid'] = i+1\n",
    "    dataframes.append(df)\n",
    "\n",
    "area2_df = pd.concat(dataframes)\n",
    "area2_tdf = skmob.TrajDataFrame(area2_df, latitude='lat', longitude='lng', datetime='datetime', user_id='uid')\n",
    "print(\"Users: \", len(area2_tdf.uid.unique()))\n",
    "print('Records: ', len(area2_tdf))\n",
    "area2_tdf.head()"
   ]
  },
  {
   "cell_type": "code",
   "execution_count": null,
   "metadata": {
    "colab": {
     "base_uri": "https://localhost:8080/",
     "height": 1000
    },
    "id": "XNr8k2D3T-W2",
    "outputId": "1a1f906c-db55-4ece-d208-5557da8d48ba"
   },
   "outputs": [],
   "source": [
    "# Visualizing trajectories flowing through Area 2\n",
    "map_f = folium.Map(location=[37.75134, -122.39488], zoom_start=12, tiles='cartodbdark_matter')\n",
    "\n",
    "# Outlining official tessellation and adding name of neighborghoods as folium popup\n",
    "for _, row in dict_tessellations['a2_t3'].iterrows():\n",
    "    sim_geo = gpd.GeoSeries(row['geometry']).simplify(tolerance=0.001)\n",
    "    geo_j = sim_geo.to_json()\n",
    "    geo_j = folium.GeoJson(data=geo_j, style_function = lambda x: {'fillColor': '#98ff69', 'color': 'white'})\n",
    "    folium.Popup(row['nhood']).add_to(geo_j)\n",
    "    geo_j.add_to(map_f)\n",
    "    \n",
    "area2_tdf.plot_trajectory(map_f = map_f, hex_color = '#59fff7', max_users = 1, zoom = 12, weight = 1, max_points = 200, opacity=0.9, start_end_markers = False)"
   ]
  },
  {
   "cell_type": "code",
   "execution_count": null,
   "metadata": {
    "colab": {
     "base_uri": "https://localhost:8080/",
     "height": 242
    },
    "id": "k2jYyKLdUuuD",
    "outputId": "e0f221d8-639f-4aaf-c1d7-c6410385f97b"
   },
   "outputs": [],
   "source": [
    "# Creating trajectory dataframe for Area 3 - Austin\n",
    "# Trajectories obtained from Gowalla checkins dataset\n",
    "url = \"https://snap.stanford.edu/data/loc-gowalla_totalCheckins.txt.gz\"\n",
    "area3_df = pd.read_csv(url, sep='\\t', header=0, nrows = 1000000, names=['user', 'check-in_time', \"latitude\", \"longitude\", \"location id\"])\n",
    "area3_tdf = skmob.TrajDataFrame(area3_df, latitude='latitude', longitude='longitude', datetime='check-in_time', user_id='user')\n",
    "print(\"Users: \", len(area3_tdf.uid.unique()))\n",
    "print('Records: ', len(area3_tdf))\n",
    "area3_tdf.head()"
   ]
  },
  {
   "cell_type": "code",
   "execution_count": null,
   "metadata": {
    "colab": {
     "base_uri": "https://localhost:8080/",
     "height": 968
    },
    "id": "9TupPtusUJN1",
    "outputId": "5d3aed9e-8653-4fd0-e119-fc2937a7dd3a"
   },
   "outputs": [],
   "source": [
    "# Visualizing trajectories flowing through Area 3\n",
    "map_f = folium.Map(location=[30.266666, -97.733330], zoom_start=8, tiles='cartodbdark_matter')\n",
    "\n",
    "# Outlining official tessellation and adding name of counties as folium popup\n",
    "for _, row in dict_tessellations['a3_t3'].iterrows():\n",
    "    sim_geo = gpd.GeoSeries(row['geometry']).simplify(tolerance=0.001)\n",
    "    geo_j = sim_geo.to_json()\n",
    "    geo_j = folium.GeoJson(data=geo_j, style_function = lambda x: {'fillColor': '#98ff69', 'color': 'white'})\n",
    "    folium.Popup(row['county_name']).add_to(geo_j)\n",
    "    geo_j.add_to(map_f)\n",
    "    \n",
    "area3_tdf.plot_trajectory(map_f = map_f, max_users = 50, weight = 1, max_points = None, opacity=0.9, start_end_markers = False)"
   ]
  },
  {
   "cell_type": "code",
   "execution_count": null,
   "metadata": {
    "colab": {
     "base_uri": "https://localhost:8080/",
     "height": 242
    },
    "id": "S62mTryUK-nD",
    "outputId": "ffcaa0f1-8983-4de8-8a8a-ab18996dfd3d"
   },
   "outputs": [],
   "source": [
    "# Creating trajectory dataframe for Area 4 - Mexico City\n",
    "# Trajectories obtained from Kaggle Taxi traces dataset. (https://www.kaggle.com/datasets/mnavas/taxi-routes-for-mexico-city-and-quito?select=mex_clean.csv)\n",
    "url = 'https://raw.githubusercontent.com/Bruno-Limon/EPR-model-comparison/main/Data/mex_clean.csv'\n",
    "area4_df = pd.read_csv(url)\n",
    "mapping = {item:i for i, item in enumerate(area4_df[\"vendor_id\"].unique())}\n",
    "area4_df[\"uid\"] = area4_df[\"vendor_id\"].apply(lambda x: mapping[x])\n",
    "area4_df.drop(['vendor_id', 'id', 'dropoff_datetime', 'dropoff_longitude', 'dropoff_latitude', 'store_and_fwd_flag', 'trip_duration', 'dist_meters', 'wait_sec'], axis=1, inplace=True)\n",
    "\n",
    "area4_tdf = skmob.TrajDataFrame(area4_df, latitude='pickup_latitude', longitude='pickup_longitude', datetime='pickup_datetime', user_id='uid')\n",
    "print(\"Users: \", len(area4_tdf.uid.unique()))\n",
    "print('Records: ', len(area4_tdf))\n",
    "area4_tdf.head()"
   ]
  },
  {
   "cell_type": "code",
   "execution_count": null,
   "metadata": {
    "colab": {
     "base_uri": "https://localhost:8080/",
     "height": 1000
    },
    "id": "zDM-RFTyUL2o",
    "outputId": "3a87f414-113c-4b9e-c563-9392fb3366d6"
   },
   "outputs": [],
   "source": [
    "# Visualizing trajectories flowing through Area 4\n",
    "map_f = folium.Map(location=[19.2016874, -99.097369], zoom_start=10, tiles='cartodbdark_matter')\n",
    "\n",
    "# Outlining official tessellation and adding name of neighborghoods as folium popup\n",
    "for _, row in dict_tessellations['a4_t3'].iterrows():\n",
    "    sim_geo = gpd.GeoSeries(row['geometry']).simplify(tolerance=0.001)\n",
    "    geo_j = sim_geo.to_json()\n",
    "    geo_j = folium.GeoJson(data=geo_j, style_function = lambda x: {'fillColor': '#98ff69', 'color': 'white'})\n",
    "    folium.Popup(row['nomgeo']).add_to(geo_j)\n",
    "    geo_j.add_to(map_f)\n",
    "    \n",
    "area4_tdf.plot_trajectory(map_f = map_f, max_users = 1, hex_color = '#59fff7', weight = 1, max_points = 200, opacity = 0.9, start_end_markers = False)"
   ]
  },
  {
   "cell_type": "markdown",
   "metadata": {
    "id": "sHVXlnGCZ7ii"
   },
   "source": [
    "TDFS for the real traces dataframes"
   ]
  },
  {
   "cell_type": "code",
   "execution_count": null,
   "metadata": {
    "id": "ngD6jNVBp_nc"
   },
   "outputs": [],
   "source": [
    "%%capture\n",
    "list_areas_tdfs = [area1_tdf, area2_tdf, area3_tdf, area4_tdf]\n",
    "list_tessellations = ['squared', 'hexagonal', 'official', 'voronoi']\n",
    "dict_real_tdfs = {}\n",
    "dict_weighted_tess = {}\n",
    "\n",
    "for i in range(1, len(list_areas_tdfs)+1):\n",
    "    for j in range(1, len(list_tessellations)+1):\n",
    "        # Mapping area traces with tessellation\n",
    "        dict_real_tdfs['a{}_t{}'.format(i,j)] = list_areas_tdfs[i-1].mapping(dict_tessellations['a{}_t{}'.format(i,j)], remove_na=True)\n",
    "        \n",
    "        # Counting visits per tile to use as parameter for weighted tessellation\n",
    "        visits_per_tile = dict_real_tdfs['a{}_t{}'.format(i,j)].groupby(\"tile_ID\", as_index=False).count()\n",
    "        visits_per_tile = visits_per_tile[[\"tile_ID\", \"uid\"]]\n",
    "        visits_per_tile[\"relevance\"] = visits_per_tile[\"uid\"]\n",
    "        visits_per_tile = visits_per_tile[[\"tile_ID\", \"relevance\"]]\n",
    "\n",
    "        dict_weighted_tess['a{}_t{}'.format(i,j)] = dict_tessellations['a{}_t{}'.format(i,j)].set_index(\"tile_ID\").join(visits_per_tile.set_index(\"tile_ID\"))\n",
    "        dict_weighted_tess['a{}_t{}'.format(i,j)] = dict_weighted_tess['a{}_t{}'.format(i,j)].fillna(0)\n",
    "        dict_weighted_tess['a{}_t{}'.format(i,j)] = dict_weighted_tess['a{}_t{}'.format(i,j)][dict_weighted_tess['a{}_t{}'.format(i,j)][\"relevance\"]>0]"
   ]
  },
  {
   "cell_type": "code",
   "execution_count": null,
   "metadata": {
    "id": "rqqnnowmMjCC"
   },
   "outputs": [],
   "source": [
    "# Creating a dictionary to map area_tessellation pairs with their names\n",
    "dict_area_tess_names = {}\n",
    "area_names = ['New York State', 'San Francisco', 'Houston', 'Mexico City']\n",
    "\n",
    "for i, area in enumerate(area_names, start = 1):\n",
    "    for j, tess in enumerate(list_tessellations, start = 1):\n",
    "        dict_area_tess_names['a{}_t{}'.format(i,j)] = str(area + ' - ' + tess + ' tessellation')"
   ]
  },
  {
   "cell_type": "code",
   "execution_count": null,
   "metadata": {
    "colab": {
     "base_uri": "https://localhost:8080/"
    },
    "id": "3vZTbumlT4nx",
    "outputId": "57b7198c-85a1-4983-f3df-6671fe1c0a4c"
   },
   "outputs": [],
   "source": [
    "# Calculating measures for the real TDFs\n",
    "dict_real_measures = {}\n",
    "show_df = True\n",
    "\n",
    "for i in range(1, len(list_areas_tdfs)+1):\n",
    "    for j in range(1, len(list_tessellations)+1):\n",
    "        if show_df == True: print('\\na{}_t{} measures'.format(i,j))\n",
    "        dict_real_measures['a{}_t{}'.format(i,j)] = compute_measures(dict_real_tdfs['a{}_t{}'.format(i,j)])"
   ]
  },
  {
   "cell_type": "markdown",
   "metadata": {
    "id": "BCWwVcw6qHnn"
   },
   "source": [
    "# **<font color=\"#ffb94f\">2.0 BUILDING MODELS & COMPARING DISTRIBUTIONS</font>**"
   ]
  },
  {
   "cell_type": "markdown",
   "metadata": {
    "id": "HZ6F0oB9i46z"
   },
   "source": [
    "The comparison among distributions is made on an area_tessellation basis, computing 6 measures of model realism, they are as follows:\n",
    "\n",
    "1. Travel Distance\n",
    "2. Radius of Gyration\n",
    "3. Uncorrelated Entropy\n",
    "4. Distinct Visited Locations\n",
    "5. Visits per Location\n",
    "6. Location Frequency\n",
    "\n",
    "Then, the distribution for each of these measures across all models is plotted, together with the RMSE of their pairs"
   ]
  },
  {
   "cell_type": "code",
   "execution_count": null,
   "metadata": {
    "id": "mijQsGgPGvfj"
   },
   "outputs": [],
   "source": [
    "# Denoting if the real TDF is taken into account into the comparison plot\n",
    "show_real = False\n",
    "\n",
    "# Parameters to use in EPR models\n",
    "number_agents = 5000\n",
    "number_individuals = 5000 # Used for Ditras Markov Diaries Generator\n",
    "start_time = pd.to_datetime('2023/01/01 00:00:00')\n",
    "end_time = pd.to_datetime('2023/01/15 00:00:00')"
   ]
  },
  {
   "cell_type": "markdown",
   "metadata": {
    "id": "1HptmvcLqY5B"
   },
   "source": [
    "## **<font color=\"#84f745\">2.1 AREA 1 - NEW YORK STATE</font>**"
   ]
  },
  {
   "cell_type": "markdown",
   "metadata": {
    "id": "r1S0VVn_qY5C"
   },
   "source": [
    "### **<font color=\"#4fffd9\">2.1.1 AREA 1 - TESSELLATION 1</font>**"
   ]
  },
  {
   "cell_type": "code",
   "execution_count": null,
   "metadata": {
    "colab": {
     "base_uri": "https://localhost:8080/",
     "height": 1000
    },
    "id": "Nd4lbAU1qK2A",
    "outputId": "b66d8a92-bc36-4c9f-c130-90fa1e664b50"
   },
   "outputs": [],
   "source": [
    "plot_comparison(area_tessellation = 'a1_t1', n_agents = number_agents, show_real = show_real)"
   ]
  },
  {
   "cell_type": "markdown",
   "metadata": {
    "id": "X80QiVswqY5D"
   },
   "source": [
    "### **<font color=\"#4fffd9\">2.1.2 AREA 1 - TESSELLATION 2</font>**"
   ]
  },
  {
   "cell_type": "code",
   "execution_count": null,
   "metadata": {
    "colab": {
     "base_uri": "https://localhost:8080/",
     "height": 1000
    },
    "id": "gcj-8W7wqY5D",
    "outputId": "4dbfe5d9-a6fc-45ab-c24b-881ea9d5134c"
   },
   "outputs": [],
   "source": [
    "plot_comparison(area_tessellation = 'a1_t2', n_agents = number_agents, show_real = show_real)"
   ]
  },
  {
   "cell_type": "markdown",
   "metadata": {
    "id": "s74OC2dLqY5D"
   },
   "source": [
    "### **<font color=\"#4fffd9\">2.1.3 AREA 1 - TESSELLATION 3</font>**"
   ]
  },
  {
   "cell_type": "code",
   "execution_count": null,
   "metadata": {
    "colab": {
     "base_uri": "https://localhost:8080/",
     "height": 1000
    },
    "id": "GSZjLJgAqY5E",
    "outputId": "93599b32-fd86-4502-f031-376026dcca6e"
   },
   "outputs": [],
   "source": [
    "plot_comparison(area_tessellation = 'a1_t3', n_agents = number_agents, show_real = show_real)"
   ]
  },
  {
   "cell_type": "markdown",
   "metadata": {
    "id": "vglGjGZ4qY5E"
   },
   "source": [
    "### **<font color=\"#4fffd9\">2.1.4 AREA 1 - TESSELLATION 4</font>**"
   ]
  },
  {
   "cell_type": "code",
   "execution_count": null,
   "metadata": {
    "colab": {
     "base_uri": "https://localhost:8080/",
     "height": 1000
    },
    "id": "0onUwuQqqY5E",
    "outputId": "1d244cf1-06c3-4cb3-84e1-71e607619692"
   },
   "outputs": [],
   "source": [
    "plot_comparison(area_tessellation = 'a1_t4', n_agents = number_agents, show_real = show_real)"
   ]
  },
  {
   "cell_type": "markdown",
   "metadata": {
    "id": "E9LmyqUkPjo-"
   },
   "source": [
    "## **<font color=\"#84f745\">2.2 AREA 2 - SAN FRANCISCO</font>**"
   ]
  },
  {
   "cell_type": "markdown",
   "metadata": {
    "id": "5FkKJLxVPjo-"
   },
   "source": [
    "### **<font color=\"#4fffd9\">2.2.1 AREA 2 - TESSELLATION 1</font>**"
   ]
  },
  {
   "cell_type": "code",
   "execution_count": null,
   "metadata": {
    "colab": {
     "base_uri": "https://localhost:8080/",
     "height": 1000
    },
    "id": "PUmYoqHRPjo-",
    "outputId": "5771934d-eb29-4015-d202-c8055f87d376"
   },
   "outputs": [],
   "source": [
    "plot_comparison(area_tessellation = 'a2_t1', n_agents = number_agents, show_real = show_real)"
   ]
  },
  {
   "cell_type": "markdown",
   "metadata": {
    "id": "3ZxqgKgyPjo_"
   },
   "source": [
    "### **<font color=\"#4fffd9\">2.2.2 AREA 2 - TESSELLATION 2</font>**"
   ]
  },
  {
   "cell_type": "code",
   "execution_count": null,
   "metadata": {
    "colab": {
     "base_uri": "https://localhost:8080/",
     "height": 1000
    },
    "id": "cp5gHHT9Pjo_",
    "outputId": "7cc11db7-b6dd-4c47-b293-59ec35ee375b"
   },
   "outputs": [],
   "source": [
    "plot_comparison(area_tessellation = 'a2_t2', n_agents = number_agents, show_real = show_real)"
   ]
  },
  {
   "cell_type": "markdown",
   "metadata": {
    "id": "ErwAap3QPjo_"
   },
   "source": [
    "### **<font color=\"#4fffd9\">2.2.3 AREA 2 - TESSELLATION 3</font>**"
   ]
  },
  {
   "cell_type": "code",
   "execution_count": null,
   "metadata": {
    "colab": {
     "base_uri": "https://localhost:8080/",
     "height": 1000
    },
    "id": "iDWPhCb9Pjo_",
    "outputId": "95383e3b-fa68-4dba-f6ec-942edd90ae69"
   },
   "outputs": [],
   "source": [
    "plot_comparison(area_tessellation = 'a2_t3', n_agents = number_agents, show_real = show_real)"
   ]
  },
  {
   "cell_type": "markdown",
   "metadata": {
    "id": "D3gL-4byPjo_"
   },
   "source": [
    "### **<font color=\"#4fffd9\">2.2.4 AREA 2 - TESSELLATION 4</font>**"
   ]
  },
  {
   "cell_type": "code",
   "execution_count": null,
   "metadata": {
    "colab": {
     "base_uri": "https://localhost:8080/",
     "height": 1000
    },
    "id": "4uwDrx4FPjpA",
    "outputId": "3c376ff2-5641-4380-a3ce-0a7b79f740ad"
   },
   "outputs": [],
   "source": [
    "plot_comparison(area_tessellation = 'a2_t4', n_agents = number_agents, show_real = show_real)"
   ]
  },
  {
   "cell_type": "markdown",
   "metadata": {
    "id": "K5u4QYC2qY5F"
   },
   "source": [
    "## **<font color=\"#84f745\">2.3 AREA 3 - HOUSTON</font>**"
   ]
  },
  {
   "cell_type": "markdown",
   "metadata": {
    "id": "Hq3QkdXFqY5F"
   },
   "source": [
    "### **<font color=\"#4fffd9\">2.3.1 AREA 3 - TESSELLATION 1</font>**"
   ]
  },
  {
   "cell_type": "code",
   "execution_count": null,
   "metadata": {
    "colab": {
     "base_uri": "https://localhost:8080/",
     "height": 1000
    },
    "id": "abEAo9k3qY5F",
    "outputId": "92d3c197-3b60-4f82-e3e2-a8b1f19edf59"
   },
   "outputs": [],
   "source": [
    "plot_comparison(area_tessellation = 'a3_t1', n_agents = number_agents, show_real = show_real)"
   ]
  },
  {
   "cell_type": "markdown",
   "metadata": {
    "id": "PQKlZRnyqY5F"
   },
   "source": [
    "### **<font color=\"#4fffd9\">2.3.2 AREA 3 - TESSELLATION 2</font>**"
   ]
  },
  {
   "cell_type": "code",
   "execution_count": null,
   "metadata": {
    "colab": {
     "base_uri": "https://localhost:8080/",
     "height": 1000
    },
    "id": "28IWw8ngqY5F",
    "outputId": "6c1b8ab5-3a4f-4a4d-dd33-4766f7a00f25"
   },
   "outputs": [],
   "source": [
    "plot_comparison(area_tessellation = 'a3_t2', n_agents = number_agents, show_real = show_real)"
   ]
  },
  {
   "cell_type": "markdown",
   "metadata": {
    "id": "J3Og6yo8qY5F"
   },
   "source": [
    "### **<font color=\"#4fffd9\">2.3.3 AREA 3 - TESSELLATION 3</font>**"
   ]
  },
  {
   "cell_type": "code",
   "execution_count": null,
   "metadata": {
    "colab": {
     "base_uri": "https://localhost:8080/",
     "height": 1000
    },
    "id": "wiPIHk29qY5G",
    "outputId": "c33e1ff6-d3ce-4c38-df01-8941b04f28cf"
   },
   "outputs": [],
   "source": [
    "plot_comparison(area_tessellation = 'a3_t3', n_agents = number_agents, show_real = show_real)"
   ]
  },
  {
   "cell_type": "markdown",
   "metadata": {
    "id": "LI1yCp7aqY5G"
   },
   "source": [
    "### **<font color=\"#4fffd9\">2.3.4 AREA 3 - TESSELLATION 4</font>**"
   ]
  },
  {
   "cell_type": "code",
   "execution_count": null,
   "metadata": {
    "colab": {
     "base_uri": "https://localhost:8080/",
     "height": 1000
    },
    "id": "8mcAS6UsqY5G",
    "outputId": "c36a4f4e-d70a-41c1-8500-0e7db532b1cc"
   },
   "outputs": [],
   "source": [
    "plot_comparison(area_tessellation = 'a3_t4', n_agents = number_agents, show_real = show_real)"
   ]
  },
  {
   "cell_type": "markdown",
   "metadata": {
    "id": "2BJypVmYqY5G"
   },
   "source": [
    "## **<font color=\"#84f745\">2.4 AREA 4 - MEXICO CITY</font>**"
   ]
  },
  {
   "cell_type": "markdown",
   "metadata": {
    "id": "uGhU88h4qY5G"
   },
   "source": [
    "### **<font color=\"#4fffd9\">2.4.1 AREA 4 - TESSELLATION 1</font>**"
   ]
  },
  {
   "cell_type": "code",
   "execution_count": null,
   "metadata": {
    "colab": {
     "base_uri": "https://localhost:8080/",
     "height": 1000
    },
    "id": "Py6woj1AqY5G",
    "outputId": "f604dd99-fd33-4afe-ff0d-731bae2fb08e"
   },
   "outputs": [],
   "source": [
    "plot_comparison(area_tessellation = 'a4_t1', n_agents = number_agents, show_real = show_real)"
   ]
  },
  {
   "cell_type": "markdown",
   "metadata": {
    "id": "ybCk4vx0qY5G"
   },
   "source": [
    "### **<font color=\"#4fffd9\">2.4.2 AREA 4 - TESSELLATION 2</font>**"
   ]
  },
  {
   "cell_type": "code",
   "execution_count": null,
   "metadata": {
    "colab": {
     "base_uri": "https://localhost:8080/",
     "height": 1000
    },
    "id": "XXM2Hz3FqY5G",
    "outputId": "8089c037-d5fa-4afb-835b-4a78b8d97f34"
   },
   "outputs": [],
   "source": [
    "plot_comparison(area_tessellation = 'a4_t2', n_agents = number_agents, show_real = show_real)"
   ]
  },
  {
   "cell_type": "markdown",
   "metadata": {
    "id": "PjLve7TXqY5G"
   },
   "source": [
    "### **<font color=\"#4fffd9\">2.4.3 AREA 4 - TESSELLATION 3</font>**"
   ]
  },
  {
   "cell_type": "code",
   "execution_count": null,
   "metadata": {
    "colab": {
     "base_uri": "https://localhost:8080/",
     "height": 1000
    },
    "id": "jX4JzPI0qY5H",
    "outputId": "2a46cc91-a961-4af5-eb7e-2be26297be40"
   },
   "outputs": [],
   "source": [
    "plot_comparison(area_tessellation = 'a4_t3', n_agents = number_agents, show_real = show_real)"
   ]
  },
  {
   "cell_type": "markdown",
   "metadata": {
    "id": "SM0c1ZoWqY5H"
   },
   "source": [
    "### **<font color=\"#4fffd9\">2.4.4 AREA 4 - TESSELLATION 4</font>**"
   ]
  },
  {
   "cell_type": "code",
   "execution_count": null,
   "metadata": {
    "colab": {
     "base_uri": "https://localhost:8080/",
     "height": 1000
    },
    "id": "0AxCSPaKqY5H",
    "outputId": "9033ac89-b187-4be3-d8f5-8c07be676440"
   },
   "outputs": [],
   "source": [
    "plot_comparison(area_tessellation = 'a4_t4', n_agents = number_agents, show_real = show_real)"
   ]
  }
 ],
 "metadata": {
  "colab": {
   "collapsed_sections": [
    "zvoTjEwMlJAw",
    "1HptmvcLqY5B",
    "r1S0VVn_qY5C",
    "X80QiVswqY5D",
    "s74OC2dLqY5D",
    "E9LmyqUkPjo-",
    "K5u4QYC2qY5F",
    "Hq3QkdXFqY5F",
    "PQKlZRnyqY5F",
    "J3Og6yo8qY5F",
    "2BJypVmYqY5G",
    "uGhU88h4qY5G",
    "ybCk4vx0qY5G",
    "PjLve7TXqY5G"
   ],
   "provenance": []
  },
  "kernelspec": {
   "display_name": "Python 3 (ipykernel)",
   "language": "python",
   "name": "python3"
  },
  "language_info": {
   "codemirror_mode": {
    "name": "ipython",
    "version": 3
   },
   "file_extension": ".py",
   "mimetype": "text/x-python",
   "name": "python",
   "nbconvert_exporter": "python",
   "pygments_lexer": "ipython3",
   "version": "3.9.15"
  },
  "toc-autonumbering": false,
  "toc-showcode": true,
  "toc-showmarkdowntxt": false
 },
 "nbformat": 4,
 "nbformat_minor": 4
}
